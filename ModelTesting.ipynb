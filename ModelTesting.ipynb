{
 "cells": [
  {
   "cell_type": "code",
   "execution_count": 1,
   "id": "05a49d55",
   "metadata": {},
   "outputs": [],
   "source": [
    "import tensorflow as tf\n",
    "import tensorflow_hub as hub"
   ]
  },
  {
   "cell_type": "code",
   "execution_count": 2,
   "id": "93c45fae",
   "metadata": {},
   "outputs": [],
   "source": [
    "import numpy as np\n",
    "import matplotlib.pyplot as plt"
   ]
  },
  {
   "cell_type": "code",
   "execution_count": 3,
   "id": "1dd2e3d2",
   "metadata": {},
   "outputs": [],
   "source": [
    "from tensorflow.keras.applications.resnet50 import ResNet50"
   ]
  },
  {
   "cell_type": "code",
   "execution_count": 4,
   "id": "430b48c1",
   "metadata": {},
   "outputs": [],
   "source": [
    "import pathlib\n",
    "data_train = 'D:/07 Skripsi/dataset/a-train_images'\n",
    "data_test = 'D:/07 Skripsi/dataset/b-test_images'"
   ]
  },
  {
   "cell_type": "code",
   "execution_count": 5,
   "id": "614e10ce",
   "metadata": {},
   "outputs": [],
   "source": [
    "#preprocessing data \n",
    "from tensorflow.keras.preprocessing.image import ImageDataGenerator\n",
    "train_datagen = ImageDataGenerator(\n",
    "            rescale=1./255,\n",
    "            shear_range=0.2,\n",
    "            zoom_range=0.2,\n",
    "            horizontal_flip=False)\n",
    "test_datagen = ImageDataGenerator(rescale=1./255)"
   ]
  },
  {
   "cell_type": "code",
   "execution_count": 6,
   "id": "6aaefffd",
   "metadata": {},
   "outputs": [
    {
     "name": "stdout",
     "output_type": "stream",
     "text": [
      "Found 3475 images belonging to 6 classes.\n",
      "Found 2174 images belonging to 6 classes.\n"
     ]
    }
   ],
   "source": [
    "train_generator = train_datagen.flow_from_directory(\n",
    "            data_train,\n",
    "            target_size=(150,150),\n",
    "            class_mode='categorical',\n",
    "            batch_size=64)\n",
    "test_generator = test_datagen.flow_from_directory(\n",
    "            data_test,\n",
    "            target_size=(150,150),\n",
    "            class_mode='categorical',\n",
    "            batch_size=64)"
   ]
  },
  {
   "cell_type": "code",
   "execution_count": 7,
   "id": "7a1d20d6",
   "metadata": {},
   "outputs": [],
   "source": [
    "base_model = ResNet50(input_shape = (150,150,3),\n",
    "                  include_top=False,\n",
    "                  weights=None)"
   ]
  },
  {
   "cell_type": "code",
   "execution_count": 8,
   "id": "529ad9d9",
   "metadata": {},
   "outputs": [],
   "source": [
    "for layer in base_model.layers:\n",
    "    layer.trainable=False"
   ]
  },
  {
   "cell_type": "code",
   "execution_count": 9,
   "id": "3ac82dcb",
   "metadata": {},
   "outputs": [],
   "source": [
    "from tensorflow.keras import Model\n",
    "from tensorflow.keras import layers"
   ]
  },
  {
   "cell_type": "code",
   "execution_count": 10,
   "id": "ca4782a2",
   "metadata": {},
   "outputs": [],
   "source": [
    "x = layers.Flatten()(base_model.output)\n",
    "x = layers.Dense(128, activation = 'relu')(x)\n",
    "x = layers.Dense(6, activation = 'softmax')(x)\n",
    "\n",
    "model = Model (base_model.input,x)"
   ]
  },
  {
   "cell_type": "code",
   "execution_count": 11,
   "id": "4975dd57",
   "metadata": {},
   "outputs": [],
   "source": [
    "model.compile(optimizer = 'Nadam',\n",
    "             loss = 'categorical_crossentropy',\n",
    "             metrics = ['accuracy'])"
   ]
  },
  {
   "cell_type": "code",
   "execution_count": 12,
   "id": "78429f4e",
   "metadata": {},
   "outputs": [],
   "source": [
    "from PIL import ImageFile\n",
    "ImageFile.LOAD_TRUNCATED_IMAGES = True"
   ]
  },
  {
   "cell_type": "code",
   "execution_count": 13,
   "id": "4d0e52c9",
   "metadata": {},
   "outputs": [
    {
     "name": "stdout",
     "output_type": "stream",
     "text": [
      "Epoch 1/20\n",
      "54/54 [==============================] - 791s 15s/step - loss: 1.5236 - accuracy: 0.3451 - val_loss: 1.4269 - val_accuracy: 0.3717\n",
      "Epoch 2/20\n",
      "54/54 [==============================] - 1914s 36s/step - loss: 1.3484 - accuracy: 0.4591 - val_loss: 1.2993 - val_accuracy: 0.5033\n",
      "Epoch 3/20\n",
      "54/54 [==============================] - 760s 14s/step - loss: 1.3064 - accuracy: 0.4872 - val_loss: 1.2216 - val_accuracy: 0.5270\n",
      "Epoch 4/20\n",
      "54/54 [==============================] - 755s 14s/step - loss: 1.2268 - accuracy: 0.5128 - val_loss: 1.2307 - val_accuracy: 0.5000\n",
      "Epoch 5/20\n",
      "54/54 [==============================] - 764s 14s/step - loss: 1.1991 - accuracy: 0.5262 - val_loss: 1.2094 - val_accuracy: 0.4735\n",
      "Epoch 6/20\n",
      "54/54 [==============================] - 827s 15s/step - loss: 1.1899 - accuracy: 0.5221 - val_loss: 1.2569 - val_accuracy: 0.5355\n",
      "Epoch 7/20\n",
      "54/54 [==============================] - 587s 11s/step - loss: 1.1414 - accuracy: 0.5488 - val_loss: 1.2203 - val_accuracy: 0.5516\n",
      "Epoch 8/20\n",
      "54/54 [==============================] - 453s 8s/step - loss: 1.1337 - accuracy: 0.5497 - val_loss: 1.1490 - val_accuracy: 0.5445\n",
      "Epoch 9/20\n",
      "54/54 [==============================] - 395s 7s/step - loss: 1.1144 - accuracy: 0.5629 - val_loss: 1.1190 - val_accuracy: 0.5611\n",
      "Epoch 10/20\n",
      "54/54 [==============================] - 410s 8s/step - loss: 1.0960 - accuracy: 0.5773 - val_loss: 1.1750 - val_accuracy: 0.5284\n",
      "Epoch 11/20\n",
      "54/54 [==============================] - 387s 7s/step - loss: 1.0741 - accuracy: 0.5790 - val_loss: 1.1415 - val_accuracy: 0.5587\n",
      "Epoch 12/20\n",
      "54/54 [==============================] - 361s 7s/step - loss: 1.0683 - accuracy: 0.5775 - val_loss: 1.0943 - val_accuracy: 0.5677\n",
      "Epoch 13/20\n",
      "54/54 [==============================] - 351s 7s/step - loss: 1.0497 - accuracy: 0.5869 - val_loss: 1.1622 - val_accuracy: 0.5639\n",
      "Epoch 14/20\n",
      "54/54 [==============================] - 349s 6s/step - loss: 1.0295 - accuracy: 0.6016 - val_loss: 1.1015 - val_accuracy: 0.5582\n",
      "Epoch 15/20\n",
      "54/54 [==============================] - 351s 7s/step - loss: 1.0474 - accuracy: 0.5925 - val_loss: 1.1846 - val_accuracy: 0.5317\n",
      "Epoch 16/20\n",
      "54/54 [==============================] - 354s 7s/step - loss: 1.0109 - accuracy: 0.6073 - val_loss: 1.1148 - val_accuracy: 0.5545\n",
      "Epoch 17/20\n",
      "54/54 [==============================] - 350s 7s/step - loss: 1.0060 - accuracy: 0.6089 - val_loss: 1.0527 - val_accuracy: 0.6009\n",
      "Epoch 18/20\n",
      "54/54 [==============================] - 353s 7s/step - loss: 1.0219 - accuracy: 0.6010 - val_loss: 1.1190 - val_accuracy: 0.5445\n",
      "Epoch 19/20\n",
      "54/54 [==============================] - 352s 7s/step - loss: 0.9886 - accuracy: 0.6174 - val_loss: 1.1097 - val_accuracy: 0.5762\n",
      "Epoch 20/20\n",
      "54/54 [==============================] - 350s 7s/step - loss: 0.9598 - accuracy: 0.6379 - val_loss: 1.0662 - val_accuracy: 0.5795\n"
     ]
    }
   ],
   "source": [
    "history = model.fit(\n",
    "        train_generator,\n",
    "        epochs = 20,\n",
    "        steps_per_epoch=54,\n",
    "        validation_data = test_generator,\n",
    "        verbose = 1,\n",
    "        validation_steps=33)"
   ]
  },
  {
   "cell_type": "code",
   "execution_count": 14,
   "id": "96a0db76",
   "metadata": {},
   "outputs": [
    {
     "data": {
      "image/png": "[encoded data removed]",
      "text/plain": [
       "<Figure size 640x480 with 1 Axes>"
      ]
     },
     "metadata": {},
     "output_type": "display_data"
    },
    {
     "data": {
      "text/plain": [
       "<Figure size 640x480 with 0 Axes>"
      ]
     },
     "metadata": {},
     "output_type": "display_data"
    }
   ],
   "source": [
    "#plot the result \n",
    " \n",
    "acc = history.history['accuracy']\n",
    "val_acc = history.history['val_accuracy']\n",
    "\n",
    "loss = history.history['loss']\n",
    "\n",
    "epochs = range(len(acc))\n",
    "\n",
    "plt.plot(epochs, acc, 'r', label='Training accuracy')\n",
    "plt.plot(epochs, val_acc, 'b', label='Validation_accuracy')\n",
    "plt.title('Training and validation accuracy')\n",
    "plt.legend(loc=0)\n",
    "plt.figure()\n",
    "\n",
    "plt.show()"
   ]
  },
  {
   "cell_type": "code",
   "execution_count": null,
   "id": "118625ce",
   "metadata": {},
   "outputs": [],
   "source": [
    "1"
   ]
  }
 ],
 "metadata": {
  "kernelspec": {
   "display_name": "deeplearning",
   "language": "python",
   "name": "deeplearning"
  },
  "language_info": {
   "codemirror_mode": {
    "name": "ipython",
    "version": 3
   },
   "file_extension": ".py",
   "mimetype": "text/x-python",
   "name": "python",
   "nbconvert_exporter": "python",
   "pygments_lexer": "ipython3",
   "version": "3.9.18"
  }
 },
 "nbformat": 4,
 "nbformat_minor": 5
}
