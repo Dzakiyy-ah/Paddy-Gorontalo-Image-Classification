{
 "cells": [
  {
   "cell_type": "code",
   "execution_count": 1,
   "id": "05a49d55",
   "metadata": {},
   "outputs": [],
   "source": [
    "import tensorflow as tf\n",
    "import tensorflow_hub as hub"
   ]
  },
  {
   "cell_type": "code",
   "execution_count": 2,
   "id": "93c45fae",
   "metadata": {},
   "outputs": [],
   "source": [
    "import numpy as np\n",
    "import matplotlib.pyplot as plt"
   ]
  },
  {
   "cell_type": "code",
   "execution_count": 3,
   "id": "1dd2e3d2",
   "metadata": {},
   "outputs": [],
   "source": [
    "from tensorflow.keras.applications.resnet50 import ResNet50"
   ]
  },
  {
   "cell_type": "code",
   "execution_count": 4,
   "id": "430b48c1",
   "metadata": {},
   "outputs": [],
   "source": [
    "import pathlib\n",
    "data_train = 'D:/07 Skripsi/dataset/a-train_images'\n",
    "data_test = 'D:/07 Skripsi/dataset/b-test_images'"
   ]
  },
  {
   "cell_type": "code",
   "execution_count": 5,
   "id": "614e10ce",
   "metadata": {},
   "outputs": [],
   "source": [
    "#preprocessing data \n",
    "from tensorflow.keras.preprocessing.image import ImageDataGenerator\n",
    "train_datagen = ImageDataGenerator(\n",
    "            rescale=1./255,\n",
    "            shear_range=0.2,\n",
    "            zoom_range=0.2,\n",
    "            horizontal_flip=False)\n",
    "test_datagen = ImageDataGenerator(rescale=1./255)"
   ]
  },
  {
   "cell_type": "code",
   "execution_count": 13,
   "id": "6aaefffd",
   "metadata": {},
   "outputs": [
    {
     "name": "stdout",
     "output_type": "stream",
     "text": [
      "Found 3475 images belonging to 6 classes.\n",
      "Found 2174 images belonging to 6 classes.\n"
     ]
    }
   ],
   "source": [
    "train_generator = train_datagen.flow_from_directory(\n",
    "            data_train,\n",
    "            target_size=(150,150),\n",
    "            class_mode='categorical',\n",
    "            batch_size=64)\n",
    "test_generator = test_datagen.flow_from_directory(\n",
    "            data_test,\n",
    "            target_size=(150,150),\n",
    "            class_mode='categorical',\n",
    "            batch_size=64)"
   ]
  },
  {
   "cell_type": "code",
   "execution_count": 14,
   "id": "7a1d20d6",
   "metadata": {},
   "outputs": [],
   "source": [
    "base_model = ResNet50(input_shape = (150,150,3),\n",
    "                  include_top=False,\n",
    "                  weights=None)"
   ]
  },
  {
   "cell_type": "code",
   "execution_count": 15,
   "id": "529ad9d9",
   "metadata": {},
   "outputs": [],
   "source": [
    "for layer in base_model.layers:\n",
    "    layer.trainable=False"
   ]
  },
  {
   "cell_type": "code",
   "execution_count": 16,
   "id": "3ac82dcb",
   "metadata": {},
   "outputs": [],
   "source": [
    "from tensorflow.keras import Model\n",
    "from tensorflow.keras import layers"
   ]
  },
  {
   "cell_type": "code",
   "execution_count": 17,
   "id": "ca4782a2",
   "metadata": {},
   "outputs": [],
   "source": [
    "x = layers.Flatten()(base_model.output)\n",
    "x = layers.Dense(128, activation = 'relu')(x)\n",
    "x = layers.Dense(6, activation = 'softmax')(x)\n",
    "\n",
    "model = Model (base_model.input,x)"
   ]
  },
  {
   "cell_type": "code",
   "execution_count": 19,
   "id": "4975dd57",
   "metadata": {},
   "outputs": [],
   "source": [
    "model.compile(optimizer = 'Adam',\n",
    "             loss = 'categorical_crossentropy',\n",
    "             metrics = ['accuracy'])"
   ]
  },
  {
   "cell_type": "code",
   "execution_count": 22,
   "id": "78429f4e",
   "metadata": {},
   "outputs": [],
   "source": [
    "from PIL import ImageFile\n",
    "ImageFile.LOAD_TRUNCATED_IMAGES = True"
   ]
  },
  {
   "cell_type": "code",
   "execution_count": 23,
   "id": "4d0e52c9",
   "metadata": {},
   "outputs": [
    {
     "name": "stdout",
     "output_type": "stream",
     "text": [
      "Epoch 1/20\n",
      "54/54 [==============================] - 441s 8s/step - loss: 1.3368 - accuracy: 0.4899 - val_loss: 1.2858 - val_accuracy: 0.5052\n",
      "Epoch 2/20\n",
      "54/54 [==============================] - 458s 9s/step - loss: 1.2602 - accuracy: 0.5057 - val_loss: 1.2663 - val_accuracy: 0.4967\n",
      "Epoch 3/20\n",
      "54/54 [==============================] - 424s 8s/step - loss: 1.2056 - accuracy: 0.5312 - val_loss: 1.1965 - val_accuracy: 0.5270\n",
      "Epoch 4/20\n",
      "54/54 [==============================] - 424s 8s/step - loss: 1.1558 - accuracy: 0.5485 - val_loss: 1.1970 - val_accuracy: 0.5142\n",
      "Epoch 5/20\n",
      "54/54 [==============================] - 415s 8s/step - loss: 1.1447 - accuracy: 0.5570 - val_loss: 1.3002 - val_accuracy: 0.4645\n",
      "Epoch 6/20\n",
      "54/54 [==============================] - 417s 8s/step - loss: 1.1293 - accuracy: 0.5702 - val_loss: 1.2777 - val_accuracy: 0.4891\n",
      "Epoch 7/20\n",
      "54/54 [==============================] - 410s 8s/step - loss: 1.1171 - accuracy: 0.5664 - val_loss: 1.1367 - val_accuracy: 0.5455\n",
      "Epoch 8/20\n",
      "54/54 [==============================] - 411s 8s/step - loss: 1.1287 - accuracy: 0.5438 - val_loss: 1.1245 - val_accuracy: 0.5402\n",
      "Epoch 9/20\n",
      "54/54 [==============================] - 410s 8s/step - loss: 1.0955 - accuracy: 0.5699 - val_loss: 1.1589 - val_accuracy: 0.5289\n",
      "Epoch 10/20\n",
      "54/54 [==============================] - 416s 8s/step - loss: 1.0715 - accuracy: 0.5849 - val_loss: 1.1524 - val_accuracy: 0.5322\n",
      "Epoch 11/20\n",
      "54/54 [==============================] - 420s 8s/step - loss: 1.0357 - accuracy: 0.6057 - val_loss: 1.1302 - val_accuracy: 0.5620\n",
      "Epoch 12/20\n",
      "54/54 [==============================] - 446s 8s/step - loss: 1.0654 - accuracy: 0.5840 - val_loss: 1.0840 - val_accuracy: 0.5663\n",
      "Epoch 13/20\n",
      "54/54 [==============================] - 436s 8s/step - loss: 1.0215 - accuracy: 0.6127 - val_loss: 1.1428 - val_accuracy: 0.5355\n",
      "Epoch 14/20\n",
      "54/54 [==============================] - 4903s 92s/step - loss: 1.0167 - accuracy: 0.6063 - val_loss: 1.1241 - val_accuracy: 0.5758\n",
      "Epoch 15/20\n",
      "54/54 [==============================] - 778s 14s/step - loss: 0.9880 - accuracy: 0.6224 - val_loss: 1.1231 - val_accuracy: 0.5625\n",
      "Epoch 16/20\n",
      "54/54 [==============================] - 772s 14s/step - loss: 0.9982 - accuracy: 0.6242 - val_loss: 1.0820 - val_accuracy: 0.5810\n",
      "Epoch 17/20\n",
      "54/54 [==============================] - 767s 14s/step - loss: 0.9778 - accuracy: 0.6293 - val_loss: 1.0923 - val_accuracy: 0.5687\n",
      "Epoch 18/20\n",
      "54/54 [==============================] - 761s 14s/step - loss: 0.9671 - accuracy: 0.6362 - val_loss: 1.0497 - val_accuracy: 0.6046\n",
      "Epoch 19/20\n",
      "54/54 [==============================] - 766s 14s/step - loss: 0.9581 - accuracy: 0.6397 - val_loss: 1.0548 - val_accuracy: 0.6042\n",
      "Epoch 20/20\n",
      "54/54 [==============================] - 774s 14s/step - loss: 1.0205 - accuracy: 0.5913 - val_loss: 1.0442 - val_accuracy: 0.5994\n"
     ]
    }
   ],
   "source": [
    "history = model.fit(\n",
    "        train_generator,\n",
    "        epochs = 20,\n",
    "        steps_per_epoch=54,\n",
    "        validation_data = test_generator,\n",
    "        verbose = 1,\n",
    "        validation_steps=33)"
   ]
  },
  {
   "cell_type": "code",
   "execution_count": 24,
   "id": "96a0db76",
   "metadata": {},
   "outputs": [
    {
     "data": {
      "image/png": "[encoded data removed]",
      "text/plain": [
       "<Figure size 640x480 with 1 Axes>"
      ]
     },
     "metadata": {},
     "output_type": "display_data"
    },
    {
     "data": {
      "text/plain": [
       "<Figure size 640x480 with 0 Axes>"
      ]
     },
     "metadata": {},
     "output_type": "display_data"
    }
   ],
   "source": [
    "#plot the result \n",
    " \n",
    "acc = history.history['accuracy']\n",
    "val_acc = history.history['val_accuracy']\n",
    "\n",
    "loss = history.history['loss']\n",
    "\n",
    "epochs = range(len(acc))\n",
    "\n",
    "plt.plot(epochs, acc, 'r', label='Training accuracy')\n",
    "plt.plot(epochs, val_acc, 'b', label='Validation_accuracy')\n",
    "plt.title('Training and validation accuracy')\n",
    "plt.legend(loc=0)\n",
    "plt.figure()\n",
    "\n",
    "plt.show()"
   ]
  },
  {
   "cell_type": "code",
   "execution_count": null,
   "id": "118625ce",
   "metadata": {},
   "outputs": [],
   "source": [
    "1"
   ]
  }
 ],
 "metadata": {
  "kernelspec": {
   "display_name": "deeplearning",
   "language": "python",
   "name": "deeplearning"
  },
  "language_info": {
   "codemirror_mode": {
    "name": "ipython",
    "version": 3
   },
   "file_extension": ".py",
   "mimetype": "text/x-python",
   "name": "python",
   "nbconvert_exporter": "python",
   "pygments_lexer": "ipython3",
   "version": "3.9.18"
  }
 },
 "nbformat": 4,
 "nbformat_minor": 5
}
