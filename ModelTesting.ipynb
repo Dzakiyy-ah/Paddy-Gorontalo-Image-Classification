{
 "cells": [
  {
   "cell_type": "code",
   "execution_count": 14,
   "id": "05a49d55",
   "metadata": {},
   "outputs": [],
   "source": [
    "import tensorflow as tf\n",
    "import tensorflow_hub as hub"
   ]
  },
  {
   "cell_type": "code",
   "execution_count": 15,
   "id": "93c45fae",
   "metadata": {},
   "outputs": [],
   "source": [
    "import numpy as np\n",
    "import matplotlib.pyplot as plt"
   ]
  },
  {
   "cell_type": "code",
   "execution_count": 16,
   "id": "1dd2e3d2",
   "metadata": {},
   "outputs": [],
   "source": [
    "from tensorflow.keras.applications.resnet50 import ResNet50"
   ]
  },
  {
   "cell_type": "code",
   "execution_count": 17,
   "id": "430b48c1",
   "metadata": {},
   "outputs": [],
   "source": [
    "import pathlib\n",
    "data_train = 'D:/07 Skripsi/dataset/a-train_images'\n",
    "data_test = 'D:/07 Skripsi/dataset/b-test_images'"
   ]
  },
  {
   "cell_type": "code",
   "execution_count": 18,
   "id": "614e10ce",
   "metadata": {},
   "outputs": [],
   "source": [
    "#preprocessing data \n",
    "from tensorflow.keras.preprocessing.image import ImageDataGenerator\n",
    "train_datagen = ImageDataGenerator(\n",
    "            rescale=1./255,\n",
    "            shear_range=0.2,\n",
    "            zoom_range=0.2,\n",
    "            horizontal_flip=False)\n",
    "test_datagen = ImageDataGenerator(rescale=1./255)"
   ]
  },
  {
   "cell_type": "code",
   "execution_count": 19,
   "id": "6aaefffd",
   "metadata": {},
   "outputs": [
    {
     "name": "stdout",
     "output_type": "stream",
     "text": [
      "Found 3475 images belonging to 6 classes.\n",
      "Found 2174 images belonging to 6 classes.\n"
     ]
    }
   ],
   "source": [
    "train_generator = train_datagen.flow_from_directory(\n",
    "            data_train,\n",
    "            target_size=(150,150),\n",
    "            class_mode='categorical',\n",
    "            batch_size=64)\n",
    "test_generator = test_datagen.flow_from_directory(\n",
    "            data_test,\n",
    "            target_size=(150,150),\n",
    "            class_mode='categorical',\n",
    "            batch_size=64)"
   ]
  },
  {
   "cell_type": "code",
   "execution_count": 20,
   "id": "7a1d20d6",
   "metadata": {},
   "outputs": [],
   "source": [
    "base_model = ResNet50(input_shape = (150,150,3),\n",
    "                  include_top=False,\n",
    "                  weights=None)"
   ]
  },
  {
   "cell_type": "code",
   "execution_count": 21,
   "id": "529ad9d9",
   "metadata": {},
   "outputs": [],
   "source": [
    "for layer in base_model.layers:\n",
    "    layer.trainable=False"
   ]
  },
  {
   "cell_type": "code",
   "execution_count": 22,
   "id": "3ac82dcb",
   "metadata": {},
   "outputs": [],
   "source": [
    "from tensorflow.keras import Model\n",
    "from tensorflow.keras import layers"
   ]
  },
  {
   "cell_type": "code",
   "execution_count": 23,
   "id": "ca4782a2",
   "metadata": {},
   "outputs": [],
   "source": [
    "x = layers.Flatten()(base_model.output)\n",
    "x = layers.Dense(128, activation = 'relu')(x)\n",
    "x = layers.Dense(6, activation = 'softmax')(x)\n",
    "\n",
    "model = Model (base_model.input,x)"
   ]
  },
  {
   "cell_type": "code",
   "execution_count": 24,
   "id": "4975dd57",
   "metadata": {},
   "outputs": [],
   "source": [
    "model.compile(optimizer = 'RMSProp',\n",
    "             loss = 'categorical_crossentropy',\n",
    "             metrics = ['accuracy'])"
   ]
  },
  {
   "cell_type": "code",
   "execution_count": 25,
   "id": "78429f4e",
   "metadata": {},
   "outputs": [],
   "source": [
    "from PIL import ImageFile\n",
    "ImageFile.LOAD_TRUNCATED_IMAGES = True"
   ]
  },
  {
   "cell_type": "code",
   "execution_count": 26,
   "id": "4d0e52c9",
   "metadata": {},
   "outputs": [
    {
     "name": "stdout",
     "output_type": "stream",
     "text": [
      "Epoch 1/20\n",
      "54/54 [==============================] - 795s 15s/step - loss: 1.8531 - accuracy: 0.3325 - val_loss: 1.4621 - val_accuracy: 0.4356\n",
      "Epoch 2/20\n",
      "54/54 [==============================] - 784s 15s/step - loss: 1.4992 - accuracy: 0.3805 - val_loss: 1.3975 - val_accuracy: 0.3864\n",
      "Epoch 3/20\n",
      "54/54 [==============================] - 789s 15s/step - loss: 1.3748 - accuracy: 0.4245 - val_loss: 1.6236 - val_accuracy: 0.3106\n",
      "Epoch 4/20\n",
      "54/54 [==============================] - 709s 13s/step - loss: 1.3312 - accuracy: 0.4491 - val_loss: 1.4560 - val_accuracy: 0.3561\n",
      "Epoch 5/20\n",
      "54/54 [==============================] - 470s 9s/step - loss: 1.2879 - accuracy: 0.4632 - val_loss: 1.2389 - val_accuracy: 0.5208\n",
      "Epoch 6/20\n",
      "54/54 [==============================] - 403s 8s/step - loss: 1.2497 - accuracy: 0.4820 - val_loss: 1.2506 - val_accuracy: 0.4953\n",
      "Epoch 7/20\n",
      "54/54 [==============================] - 430s 8s/step - loss: 1.2252 - accuracy: 0.5113 - val_loss: 1.2068 - val_accuracy: 0.5431\n",
      "Epoch 8/20\n",
      "54/54 [==============================] - 422s 8s/step - loss: 1.2007 - accuracy: 0.5204 - val_loss: 1.2925 - val_accuracy: 0.4498\n",
      "Epoch 9/20\n",
      "54/54 [==============================] - 389s 7s/step - loss: 1.2010 - accuracy: 0.5245 - val_loss: 1.2458 - val_accuracy: 0.5204\n",
      "Epoch 10/20\n",
      "54/54 [==============================] - 381s 7s/step - loss: 1.1766 - accuracy: 0.5333 - val_loss: 1.1877 - val_accuracy: 0.5170\n",
      "Epoch 11/20\n",
      "54/54 [==============================] - 387s 7s/step - loss: 1.1653 - accuracy: 0.5362 - val_loss: 1.2390 - val_accuracy: 0.5180\n",
      "Epoch 12/20\n",
      "54/54 [==============================] - 389s 7s/step - loss: 1.1650 - accuracy: 0.5386 - val_loss: 1.3435 - val_accuracy: 0.4517\n",
      "Epoch 13/20\n",
      "54/54 [==============================] - 396s 7s/step - loss: 1.1490 - accuracy: 0.5450 - val_loss: 1.2147 - val_accuracy: 0.5336\n",
      "Epoch 14/20\n",
      "54/54 [==============================] - 400s 7s/step - loss: 1.1360 - accuracy: 0.5491 - val_loss: 1.2016 - val_accuracy: 0.5241\n",
      "Epoch 15/20\n",
      "54/54 [==============================] - 404s 8s/step - loss: 1.1300 - accuracy: 0.5582 - val_loss: 1.1560 - val_accuracy: 0.5374\n",
      "Epoch 16/20\n",
      "54/54 [==============================] - 412s 8s/step - loss: 1.1030 - accuracy: 0.5712 - val_loss: 1.1503 - val_accuracy: 0.5459\n",
      "Epoch 17/20\n",
      "54/54 [==============================] - 406s 8s/step - loss: 1.1164 - accuracy: 0.5541 - val_loss: 1.1607 - val_accuracy: 0.5535\n",
      "Epoch 18/20\n",
      "54/54 [==============================] - 408s 8s/step - loss: 1.0913 - accuracy: 0.5755 - val_loss: 1.1490 - val_accuracy: 0.5369\n",
      "Epoch 19/20\n",
      "54/54 [==============================] - 409s 8s/step - loss: 1.0978 - accuracy: 0.5641 - val_loss: 1.2867 - val_accuracy: 0.4645\n",
      "Epoch 20/20\n",
      "54/54 [==============================] - 407s 8s/step - loss: 1.0772 - accuracy: 0.5887 - val_loss: 1.1182 - val_accuracy: 0.5653\n"
     ]
    }
   ],
   "source": [
    "history = model.fit(\n",
    "        train_generator,\n",
    "        epochs = 20,\n",
    "        steps_per_epoch=54,\n",
    "        validation_data = test_generator,\n",
    "        verbose = 1,\n",
    "        validation_steps=33)"
   ]
  },
  {
   "cell_type": "code",
   "execution_count": 27,
   "id": "96a0db76",
   "metadata": {},
   "outputs": [
    {
     "data": {
      "image/png": "[encoded data removed]",
      "text/plain": [
       "<Figure size 640x480 with 1 Axes>"
      ]
     },
     "metadata": {},
     "output_type": "display_data"
    },
    {
     "data": {
      "text/plain": [
       "<Figure size 640x480 with 0 Axes>"
      ]
     },
     "metadata": {},
     "output_type": "display_data"
    }
   ],
   "source": [
    "#plot the result \n",
    " \n",
    "acc = history.history['accuracy']\n",
    "val_acc = history.history['val_accuracy']\n",
    "\n",
    "loss = history.history['loss']\n",
    "\n",
    "epochs = range(len(acc))\n",
    "\n",
    "plt.plot(epochs, acc, 'r', label='Training accuracy')\n",
    "plt.plot(epochs, val_acc, 'b', label='Validation_accuracy')\n",
    "plt.title('Training and validation accuracy')\n",
    "plt.legend(loc=0)\n",
    "plt.figure()\n",
    "\n",
    "plt.show()"
   ]
  },
  {
   "cell_type": "code",
   "execution_count": 28,
   "id": "118625ce",
   "metadata": {},
   "outputs": [
    {
     "data": {
      "text/plain": [
       "1"
      ]
     },
     "execution_count": 28,
     "metadata": {},
     "output_type": "execute_result"
    }
   ],
   "source": [
    "1"
   ]
  },
  {
   "cell_type": "code",
   "execution_count": null,
   "id": "086a99ae",
   "metadata": {},
   "outputs": [],
   "source": []
  }
 ],
 "metadata": {
  "kernelspec": {
   "display_name": "deeplearning",
   "language": "python",
   "name": "deeplearning"
  },
  "language_info": {
   "codemirror_mode": {
    "name": "ipython",
    "version": 3
   },
   "file_extension": ".py",
   "mimetype": "text/x-python",
   "name": "python",
   "nbconvert_exporter": "python",
   "pygments_lexer": "ipython3",
   "version": "3.9.18"
  }
 },
 "nbformat": 4,
 "nbformat_minor": 5
}
