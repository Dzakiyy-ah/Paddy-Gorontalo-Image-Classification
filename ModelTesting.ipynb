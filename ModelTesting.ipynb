{
 "cells": [
  {
   "cell_type": "code",
   "execution_count": 33,
   "id": "05a49d55",
   "metadata": {},
   "outputs": [],
   "source": [
    "import tensorflow as tf\n",
    "import tensorflow_hub as hub"
   ]
  },
  {
   "cell_type": "code",
   "execution_count": 34,
   "id": "93c45fae",
   "metadata": {},
   "outputs": [],
   "source": [
    "import numpy as np\n",
    "import matplotlib.pyplot as plt"
   ]
  },
  {
   "cell_type": "code",
   "execution_count": 35,
   "id": "1dd2e3d2",
   "metadata": {},
   "outputs": [],
   "source": [
    "from tensorflow.keras.applications import VGG16"
   ]
  },
  {
   "cell_type": "code",
   "execution_count": 36,
   "id": "430b48c1",
   "metadata": {},
   "outputs": [],
   "source": [
    "import pathlib\n",
    "data_train = 'D:/07 Skripsi/datates/train'\n",
    "data_test = 'D:/07 Skripsi/datates/test'"
   ]
  },
  {
   "cell_type": "code",
   "execution_count": 37,
   "id": "614e10ce",
   "metadata": {},
   "outputs": [],
   "source": [
    "#preprocessing data \n",
    "from tensorflow.keras.preprocessing.image import ImageDataGenerator\n",
    "train_datagen = ImageDataGenerator(\n",
    "            rescale=1./255,\n",
    "            shear_range=0.2,\n",
    "            zoom_range=0.2,\n",
    "            horizontal_flip=False)\n",
    "test_datagen = ImageDataGenerator(rescale=1./255)"
   ]
  },
  {
   "cell_type": "code",
   "execution_count": 38,
   "id": "6aaefffd",
   "metadata": {},
   "outputs": [
    {
     "name": "stdout",
     "output_type": "stream",
     "text": [
      "Found 176 images belonging to 8 classes.\n",
      "Found 174 images belonging to 8 classes.\n"
     ]
    }
   ],
   "source": [
    "train_generator = train_datagen.flow_from_directory(\n",
    "            data_train,\n",
    "            target_size=(150,150),\n",
    "            class_mode='categorical',\n",
    "            batch_size=15)\n",
    "test_generator = test_datagen.flow_from_directory(\n",
    "            data_test,\n",
    "            target_size=(150,150),\n",
    "            class_mode='categorical',\n",
    "            batch_size=15)"
   ]
  },
  {
   "cell_type": "code",
   "execution_count": 39,
   "id": "7a1d20d6",
   "metadata": {},
   "outputs": [],
   "source": [
    "base_model = VGG16(input_shape = (150,150,3),\n",
    "                  include_top=False,\n",
    "                  weights='imagenet')"
   ]
  },
  {
   "cell_type": "code",
   "execution_count": 40,
   "id": "529ad9d9",
   "metadata": {},
   "outputs": [],
   "source": [
    "for layer in base_model.layers:\n",
    "    layer.trainable=False"
   ]
  },
  {
   "cell_type": "code",
   "execution_count": 41,
   "id": "3ac82dcb",
   "metadata": {},
   "outputs": [],
   "source": [
    "from tensorflow.keras import Model\n",
    "from tensorflow.keras import layers"
   ]
  },
  {
   "cell_type": "code",
   "execution_count": 42,
   "id": "ca4782a2",
   "metadata": {},
   "outputs": [],
   "source": [
    "x = layers.Flatten()(base_model.output)\n",
    "x = layers.Dense(128, activation = 'relu')(x)\n",
    "x = layers.Dense(8, activation = 'softmax')(x)\n",
    "\n",
    "model = Model (base_model.input,x)"
   ]
  },
  {
   "cell_type": "code",
   "execution_count": 43,
   "id": "4975dd57",
   "metadata": {},
   "outputs": [],
   "source": [
    "model.compile(optimizer = 'Adam',\n",
    "             loss = 'categorical_crossentropy',\n",
    "             metrics = ['accuracy'])"
   ]
  },
  {
   "cell_type": "code",
   "execution_count": 44,
   "id": "4d0e52c9",
   "metadata": {},
   "outputs": [
    {
     "name": "stdout",
     "output_type": "stream",
     "text": [
      "Epoch 1/25\n",
      "11/11 [==============================] - 89s 8s/step - loss: 2.0764 - accuracy: 0.2788 - val_loss: 1.3880 - val_accuracy: 0.5455\n",
      "Epoch 2/25\n",
      "11/11 [==============================] - 83s 8s/step - loss: 0.9490 - accuracy: 0.7267 - val_loss: 1.1267 - val_accuracy: 0.6000\n",
      "Epoch 3/25\n",
      "11/11 [==============================] - 82s 8s/step - loss: 0.5514 - accuracy: 0.8199 - val_loss: 1.1299 - val_accuracy: 0.5758\n",
      "Epoch 4/25\n",
      "11/11 [==============================] - 84s 8s/step - loss: 0.3918 - accuracy: 0.9006 - val_loss: 1.0448 - val_accuracy: 0.6727\n",
      "Epoch 5/25\n",
      "11/11 [==============================] - 84s 8s/step - loss: 0.2377 - accuracy: 0.9627 - val_loss: 0.9480 - val_accuracy: 0.6364\n",
      "Epoch 6/25\n",
      "11/11 [==============================] - 85s 8s/step - loss: 0.1915 - accuracy: 0.9627 - val_loss: 0.9958 - val_accuracy: 0.6667\n",
      "Epoch 7/25\n",
      "11/11 [==============================] - 81s 8s/step - loss: 0.2140 - accuracy: 0.9317 - val_loss: 1.1262 - val_accuracy: 0.6182\n",
      "Epoch 8/25\n",
      "11/11 [==============================] - 82s 8s/step - loss: 0.1309 - accuracy: 0.9752 - val_loss: 0.9909 - val_accuracy: 0.6606\n",
      "Epoch 9/25\n",
      "11/11 [==============================] - 83s 8s/step - loss: 0.1140 - accuracy: 0.9818 - val_loss: 1.0467 - val_accuracy: 0.6848\n",
      "Epoch 10/25\n",
      "11/11 [==============================] - 83s 8s/step - loss: 0.1099 - accuracy: 0.9876 - val_loss: 0.9561 - val_accuracy: 0.6727\n",
      "Epoch 11/25\n",
      "11/11 [==============================] - 83s 8s/step - loss: 0.0860 - accuracy: 0.9814 - val_loss: 0.9800 - val_accuracy: 0.6788\n",
      "Epoch 12/25\n",
      "11/11 [==============================] - 83s 8s/step - loss: 0.0562 - accuracy: 1.0000 - val_loss: 1.0630 - val_accuracy: 0.6606\n",
      "Epoch 13/25\n",
      "11/11 [==============================] - 84s 8s/step - loss: 0.0401 - accuracy: 1.0000 - val_loss: 0.9477 - val_accuracy: 0.7030\n",
      "Epoch 14/25\n",
      "11/11 [==============================] - 84s 8s/step - loss: 0.0353 - accuracy: 1.0000 - val_loss: 1.0868 - val_accuracy: 0.6727\n",
      "Epoch 15/25\n",
      "11/11 [==============================] - 85s 8s/step - loss: 0.0311 - accuracy: 1.0000 - val_loss: 1.0101 - val_accuracy: 0.6848\n",
      "Epoch 16/25\n",
      "11/11 [==============================] - 84s 8s/step - loss: 0.0305 - accuracy: 1.0000 - val_loss: 1.0524 - val_accuracy: 0.6909\n",
      "Epoch 17/25\n",
      "11/11 [==============================] - 83s 8s/step - loss: 0.0272 - accuracy: 1.0000 - val_loss: 1.1027 - val_accuracy: 0.6545\n",
      "Epoch 18/25\n",
      "11/11 [==============================] - 84s 8s/step - loss: 0.0217 - accuracy: 1.0000 - val_loss: 0.9993 - val_accuracy: 0.6667\n",
      "Epoch 19/25\n",
      "11/11 [==============================] - 84s 8s/step - loss: 0.0181 - accuracy: 1.0000 - val_loss: 1.0506 - val_accuracy: 0.6667\n",
      "Epoch 20/25\n",
      "11/11 [==============================] - 83s 8s/step - loss: 0.0195 - accuracy: 1.0000 - val_loss: 1.0506 - val_accuracy: 0.6848\n",
      "Epoch 21/25\n",
      "11/11 [==============================] - 85s 8s/step - loss: 0.0159 - accuracy: 1.0000 - val_loss: 1.0884 - val_accuracy: 0.6545\n",
      "Epoch 22/25\n",
      "11/11 [==============================] - 85s 8s/step - loss: 0.0149 - accuracy: 1.0000 - val_loss: 1.0989 - val_accuracy: 0.6788\n",
      "Epoch 23/25\n",
      "11/11 [==============================] - 81s 8s/step - loss: 0.0154 - accuracy: 1.0000 - val_loss: 1.1372 - val_accuracy: 0.6485\n",
      "Epoch 24/25\n",
      "11/11 [==============================] - 82s 8s/step - loss: 0.0108 - accuracy: 1.0000 - val_loss: 1.0660 - val_accuracy: 0.6606\n",
      "Epoch 25/25\n",
      "11/11 [==============================] - 82s 8s/step - loss: 0.0125 - accuracy: 1.0000 - val_loss: 1.1279 - val_accuracy: 0.6667\n"
     ]
    }
   ],
   "source": [
    "history = model.fit(\n",
    "        train_generator,\n",
    "        epochs = 25,\n",
    "        steps_per_epoch=11,\n",
    "        validation_data = test_generator,\n",
    "        verbose = 1,\n",
    "        validation_steps=11)"
   ]
  },
  {
   "cell_type": "code",
   "execution_count": 45,
   "id": "96a0db76",
   "metadata": {},
   "outputs": [
    {
     "data": {
      "image/png": "[encoded data removed]",
      "text/plain": [
       "<Figure size 640x480 with 1 Axes>"
      ]
     },
     "metadata": {},
     "output_type": "display_data"
    },
    {
     "data": {
      "text/plain": [
       "<Figure size 640x480 with 0 Axes>"
      ]
     },
     "metadata": {},
     "output_type": "display_data"
    }
   ],
   "source": [
    "#plot the result \n",
    " \n",
    "acc = history.history['accuracy']\n",
    "val_acc = history.history['val_accuracy']\n",
    "\n",
    "loss = history.history['loss']\n",
    "\n",
    "epochs = range(len(acc))\n",
    "\n",
    "plt.plot(epochs, acc, 'r', label='Training accuracy')\n",
    "plt.plot(epochs, val_acc, 'b', label='Validation_accuracy')\n",
    "plt.title('Training and validation accuracy')\n",
    "plt.legend(loc=0)\n",
    "plt.figure()\n",
    "\n",
    "plt.show()"
   ]
  },
  {
   "cell_type": "code",
   "execution_count": null,
   "id": "118625ce",
   "metadata": {},
   "outputs": [],
   "source": [
    "1"
   ]
  }
 ],
 "metadata": {
  "kernelspec": {
   "display_name": "deeplearning",
   "language": "python",
   "name": "deeplearning"
  },
  "language_info": {
   "codemirror_mode": {
    "name": "ipython",
    "version": 3
   },
   "file_extension": ".py",
   "mimetype": "text/x-python",
   "name": "python",
   "nbconvert_exporter": "python",
   "pygments_lexer": "ipython3",
   "version": "3.9.18"
  }
 },
 "nbformat": 4,
 "nbformat_minor": 5
}
