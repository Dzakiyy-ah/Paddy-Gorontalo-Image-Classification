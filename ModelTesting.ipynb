{
 "cells": [
  {
   "cell_type": "code",
   "execution_count": 1,
   "id": "05a49d55",
   "metadata": {},
   "outputs": [],
   "source": [
    "import tensorflow as tf\n",
    "import tensorflow_hub as hub"
   ]
  },
  {
   "cell_type": "code",
   "execution_count": 2,
   "id": "93c45fae",
   "metadata": {},
   "outputs": [],
   "source": [
    "import numpy as np\n",
    "import matplotlib.pyplot as plt"
   ]
  },
  {
   "cell_type": "code",
   "execution_count": 3,
   "id": "1dd2e3d2",
   "metadata": {},
   "outputs": [],
   "source": [
    "from tensorflow.keras.applications import VGG16"
   ]
  },
  {
   "cell_type": "code",
   "execution_count": 4,
   "id": "430b48c1",
   "metadata": {},
   "outputs": [],
   "source": [
    "import pathlib\n",
    "data_train = 'D:/07 Skripsi/datates/train'\n",
    "data_test = 'D:/07 Skripsi/datates/test'"
   ]
  },
  {
   "cell_type": "code",
   "execution_count": 5,
   "id": "614e10ce",
   "metadata": {},
   "outputs": [],
   "source": [
    "#preprocessing data \n",
    "from tensorflow.keras.preprocessing.image import ImageDataGenerator\n",
    "train_datagen = ImageDataGenerator(\n",
    "            rescale=1./255,\n",
    "            shear_range=0.2,\n",
    "            zoom_range=0.2,\n",
    "            horizontal_flip=False)\n",
    "test_datagen = ImageDataGenerator(rescale=1./255)"
   ]
  },
  {
   "cell_type": "code",
   "execution_count": 10,
   "id": "6aaefffd",
   "metadata": {},
   "outputs": [
    {
     "name": "stdout",
     "output_type": "stream",
     "text": [
      "Found 372 images belonging to 6 classes.\n",
      "Found 300 images belonging to 6 classes.\n"
     ]
    }
   ],
   "source": [
    "train_generator = train_datagen.flow_from_directory(\n",
    "            data_train,\n",
    "            target_size=(150,150),\n",
    "            class_mode='categorical',\n",
    "            batch_size=16)\n",
    "test_generator = test_datagen.flow_from_directory(\n",
    "            data_test,\n",
    "            target_size=(150,150),\n",
    "            class_mode='categorical',\n",
    "            batch_size=15)"
   ]
  },
  {
   "cell_type": "code",
   "execution_count": 11,
   "id": "7a1d20d6",
   "metadata": {},
   "outputs": [],
   "source": [
    "base_model = VGG16(input_shape = (150,150,3),\n",
    "                  include_top=False,\n",
    "                  weights='imagenet')"
   ]
  },
  {
   "cell_type": "code",
   "execution_count": 12,
   "id": "529ad9d9",
   "metadata": {},
   "outputs": [],
   "source": [
    "for layer in base_model.layers:\n",
    "    layer.trainable=False"
   ]
  },
  {
   "cell_type": "code",
   "execution_count": 13,
   "id": "3ac82dcb",
   "metadata": {},
   "outputs": [],
   "source": [
    "from tensorflow.keras import Model\n",
    "from tensorflow.keras import layers"
   ]
  },
  {
   "cell_type": "code",
   "execution_count": 14,
   "id": "ca4782a2",
   "metadata": {},
   "outputs": [],
   "source": [
    "x = layers.Flatten()(base_model.output)\n",
    "x = layers.Dense(128, activation = 'relu')(x)\n",
    "x = layers.Dense(6, activation = 'softmax')(x)\n",
    "\n",
    "model = Model (base_model.input,x)"
   ]
  },
  {
   "cell_type": "code",
   "execution_count": 15,
   "id": "4975dd57",
   "metadata": {},
   "outputs": [],
   "source": [
    "model.compile(optimizer = 'Adam',\n",
    "             loss = 'categorical_crossentropy',\n",
    "             metrics = ['accuracy'])"
   ]
  },
  {
   "cell_type": "code",
   "execution_count": 16,
   "id": "4d0e52c9",
   "metadata": {},
   "outputs": [
    {
     "name": "stdout",
     "output_type": "stream",
     "text": [
      "Epoch 1/25\n",
      "23/23 [==============================] - 190s 8s/step - loss: 1.5559 - accuracy: 0.4719 - val_loss: 1.0751 - val_accuracy: 0.5233\n",
      "Epoch 2/25\n",
      "23/23 [==============================] - 171s 8s/step - loss: 0.7539 - accuracy: 0.7247 - val_loss: 0.8384 - val_accuracy: 0.6967\n",
      "Epoch 3/25\n",
      "23/23 [==============================] - 164s 7s/step - loss: 0.5470 - accuracy: 0.8230 - val_loss: 0.8188 - val_accuracy: 0.6933\n",
      "Epoch 4/25\n",
      "23/23 [==============================] - 165s 7s/step - loss: 0.3795 - accuracy: 0.8820 - val_loss: 0.7249 - val_accuracy: 0.7633\n",
      "Epoch 5/25\n",
      "23/23 [==============================] - 165s 7s/step - loss: 0.3078 - accuracy: 0.9185 - val_loss: 0.6881 - val_accuracy: 0.7500\n",
      "Epoch 6/25\n",
      "23/23 [==============================] - 163s 7s/step - loss: 0.2001 - accuracy: 0.9663 - val_loss: 0.6764 - val_accuracy: 0.7633\n",
      "Epoch 7/25\n",
      "23/23 [==============================] - 167s 7s/step - loss: 0.1460 - accuracy: 0.9747 - val_loss: 0.6522 - val_accuracy: 0.7800\n",
      "Epoch 8/25\n",
      "23/23 [==============================] - 172s 8s/step - loss: 0.1379 - accuracy: 0.9803 - val_loss: 0.6257 - val_accuracy: 0.7800\n",
      "Epoch 9/25\n",
      "23/23 [==============================] - 176s 8s/step - loss: 0.1125 - accuracy: 0.9803 - val_loss: 0.6582 - val_accuracy: 0.7633\n",
      "Epoch 10/25\n",
      "23/23 [==============================] - 179s 8s/step - loss: 0.0871 - accuracy: 0.9916 - val_loss: 0.6818 - val_accuracy: 0.7867\n",
      "Epoch 11/25\n",
      "23/23 [==============================] - 178s 8s/step - loss: 0.0748 - accuracy: 0.9888 - val_loss: 0.6724 - val_accuracy: 0.7933\n",
      "Epoch 12/25\n",
      "23/23 [==============================] - 191s 8s/step - loss: 0.0520 - accuracy: 0.9972 - val_loss: 0.6655 - val_accuracy: 0.7933\n",
      "Epoch 13/25\n",
      "23/23 [==============================] - 180s 8s/step - loss: 0.0448 - accuracy: 0.9972 - val_loss: 0.6607 - val_accuracy: 0.7900\n",
      "Epoch 14/25\n",
      "23/23 [==============================] - 177s 8s/step - loss: 0.0507 - accuracy: 0.9972 - val_loss: 0.7049 - val_accuracy: 0.7967\n",
      "Epoch 15/25\n",
      "23/23 [==============================] - 124s 5s/step - loss: 0.0471 - accuracy: 0.9944 - val_loss: 0.7060 - val_accuracy: 0.7900\n",
      "Epoch 16/25\n",
      "23/23 [==============================] - 123s 5s/step - loss: 0.0516 - accuracy: 0.9916 - val_loss: 0.6859 - val_accuracy: 0.7800\n",
      "Epoch 17/25\n",
      "23/23 [==============================] - 121s 5s/step - loss: 0.0340 - accuracy: 0.9972 - val_loss: 0.6650 - val_accuracy: 0.7867\n",
      "Epoch 18/25\n",
      "23/23 [==============================] - 127s 6s/step - loss: 0.0355 - accuracy: 0.9972 - val_loss: 0.6686 - val_accuracy: 0.8033\n",
      "Epoch 19/25\n",
      "23/23 [==============================] - 123s 5s/step - loss: 0.0292 - accuracy: 1.0000 - val_loss: 0.6872 - val_accuracy: 0.7833\n",
      "Epoch 20/25\n",
      "23/23 [==============================] - 122s 5s/step - loss: 0.0279 - accuracy: 0.9972 - val_loss: 0.7081 - val_accuracy: 0.7767\n",
      "Epoch 21/25\n",
      "23/23 [==============================] - 123s 5s/step - loss: 0.0158 - accuracy: 1.0000 - val_loss: 0.7466 - val_accuracy: 0.7800\n",
      "Epoch 22/25\n",
      "23/23 [==============================] - 122s 5s/step - loss: 0.0175 - accuracy: 1.0000 - val_loss: 0.7201 - val_accuracy: 0.7833\n",
      "Epoch 23/25\n",
      "23/23 [==============================] - 121s 5s/step - loss: 0.0162 - accuracy: 1.0000 - val_loss: 0.7679 - val_accuracy: 0.7867\n",
      "Epoch 24/25\n",
      "23/23 [==============================] - 90s 4s/step - loss: 0.0239 - accuracy: 1.0000 - val_loss: 0.7817 - val_accuracy: 0.7833\n",
      "Epoch 25/25\n",
      "23/23 [==============================] - 83s 4s/step - loss: 0.0161 - accuracy: 1.0000 - val_loss: 0.7729 - val_accuracy: 0.7667\n"
     ]
    }
   ],
   "source": [
    "history = model.fit(\n",
    "        train_generator,\n",
    "        epochs = 25,\n",
    "        steps_per_epoch=23,\n",
    "        validation_data = test_generator,\n",
    "        verbose = 1,\n",
    "        validation_steps=20)"
   ]
  },
  {
   "cell_type": "code",
   "execution_count": 17,
   "id": "96a0db76",
   "metadata": {},
   "outputs": [
    {
     "data": {
      "image/png": "[encoded data removed]",
      "text/plain": [
       "<Figure size 640x480 with 1 Axes>"
      ]
     },
     "metadata": {},
     "output_type": "display_data"
    },
    {
     "data": {
      "text/plain": [
       "<Figure size 640x480 with 0 Axes>"
      ]
     },
     "metadata": {},
     "output_type": "display_data"
    }
   ],
   "source": [
    "#plot the result \n",
    " \n",
    "acc = history.history['accuracy']\n",
    "val_acc = history.history['val_accuracy']\n",
    "\n",
    "loss = history.history['loss']\n",
    "\n",
    "epochs = range(len(acc))\n",
    "\n",
    "plt.plot(epochs, acc, 'r', label='Training accuracy')\n",
    "plt.plot(epochs, val_acc, 'b', label='Validation_accuracy')\n",
    "plt.title('Training and validation accuracy')\n",
    "plt.legend(loc=0)\n",
    "plt.figure()\n",
    "\n",
    "plt.show()"
   ]
  },
  {
   "cell_type": "code",
   "execution_count": null,
   "id": "118625ce",
   "metadata": {},
   "outputs": [],
   "source": [
    "1"
   ]
  }
 ],
 "metadata": {
  "kernelspec": {
   "display_name": "deeplearning",
   "language": "python",
   "name": "deeplearning"
  },
  "language_info": {
   "codemirror_mode": {
    "name": "ipython",
    "version": 3
   },
   "file_extension": ".py",
   "mimetype": "text/x-python",
   "name": "python",
   "nbconvert_exporter": "python",
   "pygments_lexer": "ipython3",
   "version": "3.9.18"
  }
 },
 "nbformat": 4,
 "nbformat_minor": 5
}
