{
 "cells": [
  {
   "cell_type": "code",
   "execution_count": 1,
   "id": "05a49d55",
   "metadata": {},
   "outputs": [],
   "source": [
    "import tensorflow as tf\n",
    "import tensorflow_hub as hub"
   ]
  },
  {
   "cell_type": "code",
   "execution_count": 2,
   "id": "93c45fae",
   "metadata": {},
   "outputs": [],
   "source": [
    "import numpy as np\n",
    "import matplotlib.pyplot as plt"
   ]
  },
  {
   "cell_type": "code",
   "execution_count": 3,
   "id": "1dd2e3d2",
   "metadata": {},
   "outputs": [],
   "source": [
    "from tensorflow.keras.applications.resnet50 import ResNet50"
   ]
  },
  {
   "cell_type": "code",
   "execution_count": 4,
   "id": "430b48c1",
   "metadata": {},
   "outputs": [],
   "source": [
    "import pathlib\n",
    "data_train = 'D:/07 Skripsi/datates/train'\n",
    "data_test = 'D:/07 Skripsi/datates/test'"
   ]
  },
  {
   "cell_type": "code",
   "execution_count": 5,
   "id": "614e10ce",
   "metadata": {},
   "outputs": [],
   "source": [
    "#preprocessing data \n",
    "from tensorflow.keras.preprocessing.image import ImageDataGenerator\n",
    "train_datagen = ImageDataGenerator(\n",
    "            rescale=1./255,\n",
    "            shear_range=0.2,\n",
    "            zoom_range=0.2,\n",
    "            horizontal_flip=False)\n",
    "test_datagen = ImageDataGenerator(rescale=1./255)"
   ]
  },
  {
   "cell_type": "code",
   "execution_count": 6,
   "id": "6aaefffd",
   "metadata": {},
   "outputs": [
    {
     "name": "stdout",
     "output_type": "stream",
     "text": [
      "Found 372 images belonging to 6 classes.\n",
      "Found 300 images belonging to 6 classes.\n"
     ]
    }
   ],
   "source": [
    "train_generator = train_datagen.flow_from_directory(\n",
    "            data_train,\n",
    "            target_size=(150,150),\n",
    "            class_mode='categorical',\n",
    "            batch_size=16)\n",
    "test_generator = test_datagen.flow_from_directory(\n",
    "            data_test,\n",
    "            target_size=(150,150),\n",
    "            class_mode='categorical',\n",
    "            batch_size=15)"
   ]
  },
  {
   "cell_type": "code",
   "execution_count": 7,
   "id": "7a1d20d6",
   "metadata": {},
   "outputs": [],
   "source": [
    "base_model = ResNet50(input_shape = (150,150,3),\n",
    "                  include_top=False,\n",
    "                  weights=None)"
   ]
  },
  {
   "cell_type": "code",
   "execution_count": 9,
   "id": "529ad9d9",
   "metadata": {},
   "outputs": [],
   "source": [
    "for layer in base_model.layers:\n",
    "    layer.trainable=False"
   ]
  },
  {
   "cell_type": "code",
   "execution_count": 10,
   "id": "3ac82dcb",
   "metadata": {},
   "outputs": [],
   "source": [
    "from tensorflow.keras import Model\n",
    "from tensorflow.keras import layers"
   ]
  },
  {
   "cell_type": "code",
   "execution_count": 11,
   "id": "ca4782a2",
   "metadata": {},
   "outputs": [],
   "source": [
    "x = layers.Flatten()(base_model.output)\n",
    "x = layers.Dense(128, activation = 'relu')(x)\n",
    "x = layers.Dense(6, activation = 'softmax')(x)\n",
    "\n",
    "model = Model (base_model.input,x)"
   ]
  },
  {
   "cell_type": "code",
   "execution_count": 12,
   "id": "4975dd57",
   "metadata": {},
   "outputs": [],
   "source": [
    "model.compile(optimizer = 'Adam',\n",
    "             loss = 'categorical_crossentropy',\n",
    "             metrics = ['accuracy'])"
   ]
  },
  {
   "cell_type": "code",
   "execution_count": 13,
   "id": "4d0e52c9",
   "metadata": {},
   "outputs": [
    {
     "name": "stdout",
     "output_type": "stream",
     "text": [
      "Epoch 1/25\n",
      "23/23 [==============================] - 92s 4s/step - loss: 1.8994 - accuracy: 0.2303 - val_loss: 1.7654 - val_accuracy: 0.2967\n",
      "Epoch 2/25\n",
      "23/23 [==============================] - 71s 3s/step - loss: 1.6864 - accuracy: 0.2865 - val_loss: 1.7036 - val_accuracy: 0.2500\n",
      "Epoch 3/25\n",
      "23/23 [==============================] - 74s 3s/step - loss: 1.5615 - accuracy: 0.3792 - val_loss: 1.5853 - val_accuracy: 0.2933\n",
      "Epoch 4/25\n",
      "23/23 [==============================] - 89s 4s/step - loss: 1.4884 - accuracy: 0.4326 - val_loss: 1.5144 - val_accuracy: 0.4133\n",
      "Epoch 5/25\n",
      "23/23 [==============================] - 80s 4s/step - loss: 1.4316 - accuracy: 0.4551 - val_loss: 1.4876 - val_accuracy: 0.3533\n",
      "Epoch 6/25\n",
      "23/23 [==============================] - 74s 3s/step - loss: 1.3412 - accuracy: 0.4888 - val_loss: 1.4518 - val_accuracy: 0.4233\n",
      "Epoch 7/25\n",
      "23/23 [==============================] - 74s 3s/step - loss: 1.2835 - accuracy: 0.5337 - val_loss: 1.3977 - val_accuracy: 0.4367\n",
      "Epoch 8/25\n",
      "23/23 [==============================] - 76s 3s/step - loss: 1.2845 - accuracy: 0.4972 - val_loss: 1.4378 - val_accuracy: 0.4133\n",
      "Epoch 9/25\n",
      "23/23 [==============================] - 76s 3s/step - loss: 1.2268 - accuracy: 0.5056 - val_loss: 1.4140 - val_accuracy: 0.4433\n",
      "Epoch 10/25\n",
      "23/23 [==============================] - 75s 3s/step - loss: 1.2087 - accuracy: 0.5365 - val_loss: 1.3100 - val_accuracy: 0.5133\n",
      "Epoch 11/25\n",
      "23/23 [==============================] - 77s 3s/step - loss: 1.1391 - accuracy: 0.5534 - val_loss: 1.3358 - val_accuracy: 0.5267\n",
      "Epoch 12/25\n",
      "23/23 [==============================] - 77s 3s/step - loss: 1.1079 - accuracy: 0.6096 - val_loss: 1.3844 - val_accuracy: 0.4333\n",
      "Epoch 13/25\n",
      "23/23 [==============================] - 75s 3s/step - loss: 1.1416 - accuracy: 0.5674 - val_loss: 1.4029 - val_accuracy: 0.3900\n",
      "Epoch 14/25\n",
      "23/23 [==============================] - 74s 3s/step - loss: 1.0904 - accuracy: 0.5955 - val_loss: 1.2539 - val_accuracy: 0.5133\n",
      "Epoch 15/25\n",
      "23/23 [==============================] - 75s 3s/step - loss: 1.0681 - accuracy: 0.6180 - val_loss: 1.2674 - val_accuracy: 0.4767\n",
      "Epoch 16/25\n",
      "23/23 [==============================] - 75s 3s/step - loss: 1.0195 - accuracy: 0.6657 - val_loss: 1.3745 - val_accuracy: 0.4367\n",
      "Epoch 17/25\n",
      "23/23 [==============================] - 76s 3s/step - loss: 1.0322 - accuracy: 0.6096 - val_loss: 1.4627 - val_accuracy: 0.4400\n",
      "Epoch 18/25\n",
      "23/23 [==============================] - 76s 3s/step - loss: 1.0160 - accuracy: 0.6208 - val_loss: 1.3466 - val_accuracy: 0.4900\n",
      "Epoch 19/25\n",
      "23/23 [==============================] - 74s 3s/step - loss: 0.9813 - accuracy: 0.6180 - val_loss: 1.2514 - val_accuracy: 0.5100\n",
      "Epoch 20/25\n",
      "23/23 [==============================] - 76s 3s/step - loss: 0.9871 - accuracy: 0.6152 - val_loss: 1.3227 - val_accuracy: 0.5133\n",
      "Epoch 21/25\n",
      "23/23 [==============================] - 76s 3s/step - loss: 0.9322 - accuracy: 0.6739 - val_loss: 1.2185 - val_accuracy: 0.5600\n",
      "Epoch 22/25\n",
      "23/23 [==============================] - 77s 3s/step - loss: 0.9452 - accuracy: 0.6601 - val_loss: 1.1913 - val_accuracy: 0.5467\n",
      "Epoch 23/25\n",
      "23/23 [==============================] - 72s 3s/step - loss: 0.9059 - accuracy: 0.6854 - val_loss: 1.2120 - val_accuracy: 0.5400\n",
      "Epoch 24/25\n",
      "23/23 [==============================] - 67s 3s/step - loss: 0.9174 - accuracy: 0.6685 - val_loss: 1.3146 - val_accuracy: 0.5167\n",
      "Epoch 25/25\n",
      "23/23 [==============================] - 68s 3s/step - loss: 0.9181 - accuracy: 0.6713 - val_loss: 1.1748 - val_accuracy: 0.5567\n"
     ]
    }
   ],
   "source": [
    "history = model.fit(\n",
    "        train_generator,\n",
    "        epochs = 25,\n",
    "        steps_per_epoch=23,\n",
    "        validation_data = test_generator,\n",
    "        verbose = 1,\n",
    "        validation_steps=20)"
   ]
  },
  {
   "cell_type": "code",
   "execution_count": 14,
   "id": "96a0db76",
   "metadata": {},
   "outputs": [
    {
     "data": {
      "image/png": "[encoded data removed]",
      "text/plain": [
       "<Figure size 640x480 with 1 Axes>"
      ]
     },
     "metadata": {},
     "output_type": "display_data"
    },
    {
     "data": {
      "text/plain": [
       "<Figure size 640x480 with 0 Axes>"
      ]
     },
     "metadata": {},
     "output_type": "display_data"
    }
   ],
   "source": [
    "#plot the result \n",
    " \n",
    "acc = history.history['accuracy']\n",
    "val_acc = history.history['val_accuracy']\n",
    "\n",
    "loss = history.history['loss']\n",
    "\n",
    "epochs = range(len(acc))\n",
    "\n",
    "plt.plot(epochs, acc, 'r', label='Training accuracy')\n",
    "plt.plot(epochs, val_acc, 'b', label='Validation_accuracy')\n",
    "plt.title('Training and validation accuracy')\n",
    "plt.legend(loc=0)\n",
    "plt.figure()\n",
    "\n",
    "plt.show()"
   ]
  },
  {
   "cell_type": "code",
   "execution_count": null,
   "id": "118625ce",
   "metadata": {},
   "outputs": [],
   "source": [
    "1"
   ]
  }
 ],
 "metadata": {
  "kernelspec": {
   "display_name": "deeplearning",
   "language": "python",
   "name": "deeplearning"
  },
  "language_info": {
   "codemirror_mode": {
    "name": "ipython",
    "version": 3
   },
   "file_extension": ".py",
   "mimetype": "text/x-python",
   "name": "python",
   "nbconvert_exporter": "python",
   "pygments_lexer": "ipython3",
   "version": "3.9.18"
  }
 },
 "nbformat": 4,
 "nbformat_minor": 5
}
