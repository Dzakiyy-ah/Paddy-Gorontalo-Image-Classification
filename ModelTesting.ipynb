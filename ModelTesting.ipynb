{
 "cells": [
  {
   "cell_type": "code",
   "execution_count": 1,
   "id": "05a49d55",
   "metadata": {},
   "outputs": [],
   "source": [
    "import tensorflow as tf\n",
    "import tensorflow_hub as hub"
   ]
  },
  {
   "cell_type": "code",
   "execution_count": 2,
   "id": "93c45fae",
   "metadata": {},
   "outputs": [],
   "source": [
    "import numpy as np\n",
    "import matplotlib.pyplot as plt"
   ]
  },
  {
   "cell_type": "code",
   "execution_count": 3,
   "id": "1dd2e3d2",
   "metadata": {},
   "outputs": [],
   "source": [
    "from tensorflow.keras.applications.resnet50 import ResNet50"
   ]
  },
  {
   "cell_type": "code",
   "execution_count": 4,
   "id": "430b48c1",
   "metadata": {},
   "outputs": [],
   "source": [
    "import pathlib\n",
    "data_train = 'D:/07 Skripsi/datates/train'\n",
    "data_test = 'D:/07 Skripsi/datates/test'"
   ]
  },
  {
   "cell_type": "code",
   "execution_count": 5,
   "id": "614e10ce",
   "metadata": {},
   "outputs": [],
   "source": [
    "#preprocessing data \n",
    "from tensorflow.keras.preprocessing.image import ImageDataGenerator\n",
    "train_datagen = ImageDataGenerator(\n",
    "            rescale=1./255,\n",
    "            shear_range=0.2,\n",
    "            zoom_range=0.2,\n",
    "            horizontal_flip=False)\n",
    "test_datagen = ImageDataGenerator(rescale=1./255)"
   ]
  },
  {
   "cell_type": "code",
   "execution_count": 13,
   "id": "6aaefffd",
   "metadata": {},
   "outputs": [
    {
     "name": "stdout",
     "output_type": "stream",
     "text": [
      "Found 372 images belonging to 6 classes.\n",
      "Found 300 images belonging to 6 classes.\n"
     ]
    }
   ],
   "source": [
    "train_generator = train_datagen.flow_from_directory(\n",
    "            data_train,\n",
    "            target_size=(150,150),\n",
    "            class_mode='categorical',\n",
    "            batch_size=16)\n",
    "test_generator = test_datagen.flow_from_directory(\n",
    "            data_test,\n",
    "            target_size=(150,150),\n",
    "            class_mode='categorical',\n",
    "            batch_size=15)"
   ]
  },
  {
   "cell_type": "code",
   "execution_count": 14,
   "id": "7a1d20d6",
   "metadata": {},
   "outputs": [],
   "source": [
    "base_model = ResNet50(input_shape = (150,150,3),\n",
    "                  include_top=False,\n",
    "                  weights=None)"
   ]
  },
  {
   "cell_type": "code",
   "execution_count": 16,
   "id": "529ad9d9",
   "metadata": {},
   "outputs": [],
   "source": [
    "for layer in base_model.layers:\n",
    "    layer.trainable=False"
   ]
  },
  {
   "cell_type": "code",
   "execution_count": 17,
   "id": "3ac82dcb",
   "metadata": {},
   "outputs": [],
   "source": [
    "from tensorflow.keras import Model\n",
    "from tensorflow.keras import layers"
   ]
  },
  {
   "cell_type": "code",
   "execution_count": 18,
   "id": "ca4782a2",
   "metadata": {},
   "outputs": [],
   "source": [
    "x = layers.Flatten()(base_model.output)\n",
    "x = layers.Dense(128, activation = 'relu')(x)\n",
    "x = layers.Dense(6, activation = 'softmax')(x)\n",
    "\n",
    "model = Model (base_model.input,x)"
   ]
  },
  {
   "cell_type": "code",
   "execution_count": 19,
   "id": "4975dd57",
   "metadata": {},
   "outputs": [],
   "source": [
    "model.compile(optimizer = 'Adam',\n",
    "             loss = 'categorical_crossentropy',\n",
    "             metrics = ['accuracy'])"
   ]
  },
  {
   "cell_type": "code",
   "execution_count": 20,
   "id": "4d0e52c9",
   "metadata": {},
   "outputs": [
    {
     "name": "stdout",
     "output_type": "stream",
     "text": [
      "Epoch 1/100\n",
      "23/23 [==============================] - 146s 6s/step - loss: 1.9640 - accuracy: 0.1685 - val_loss: 1.7669 - val_accuracy: 0.1867\n",
      "Epoch 2/100\n",
      "23/23 [==============================] - 144s 6s/step - loss: 1.6547 - accuracy: 0.3539 - val_loss: 1.6870 - val_accuracy: 0.2500\n",
      "Epoch 3/100\n",
      "23/23 [==============================] - 129s 6s/step - loss: 1.5512 - accuracy: 0.3652 - val_loss: 1.6538 - val_accuracy: 0.3400\n",
      "Epoch 4/100\n",
      "23/23 [==============================] - 135s 6s/step - loss: 1.4494 - accuracy: 0.4213 - val_loss: 1.5923 - val_accuracy: 0.4233\n",
      "Epoch 5/100\n",
      "23/23 [==============================] - 128s 6s/step - loss: 1.4106 - accuracy: 0.4522 - val_loss: 1.4575 - val_accuracy: 0.4333\n",
      "Epoch 6/100\n",
      "23/23 [==============================] - 137s 6s/step - loss: 1.3314 - accuracy: 0.4691 - val_loss: 1.4279 - val_accuracy: 0.4700\n",
      "Epoch 7/100\n",
      "23/23 [==============================] - 132s 6s/step - loss: 1.3317 - accuracy: 0.4579 - val_loss: 1.5227 - val_accuracy: 0.3500\n",
      "Epoch 8/100\n",
      "23/23 [==============================] - 126s 6s/step - loss: 1.2732 - accuracy: 0.5084 - val_loss: 1.3827 - val_accuracy: 0.4800\n",
      "Epoch 9/100\n",
      "23/23 [==============================] - 126s 6s/step - loss: 1.2158 - accuracy: 0.5562 - val_loss: 1.3758 - val_accuracy: 0.4867\n",
      "Epoch 10/100\n",
      "23/23 [==============================] - 124s 5s/step - loss: 1.1862 - accuracy: 0.5393 - val_loss: 1.3778 - val_accuracy: 0.4833\n",
      "Epoch 11/100\n",
      "23/23 [==============================] - 125s 5s/step - loss: 1.1186 - accuracy: 0.5955 - val_loss: 1.3772 - val_accuracy: 0.4733\n",
      "Epoch 12/100\n",
      "23/23 [==============================] - 126s 6s/step - loss: 1.0757 - accuracy: 0.6376 - val_loss: 1.3375 - val_accuracy: 0.4500\n",
      "Epoch 13/100\n",
      "23/23 [==============================] - 124s 5s/step - loss: 1.0684 - accuracy: 0.5590 - val_loss: 1.3105 - val_accuracy: 0.4533\n",
      "Epoch 14/100\n",
      "23/23 [==============================] - 129s 6s/step - loss: 1.1294 - accuracy: 0.5478 - val_loss: 1.3646 - val_accuracy: 0.4233\n",
      "Epoch 15/100\n",
      "23/23 [==============================] - 129s 6s/step - loss: 1.0663 - accuracy: 0.6168 - val_loss: 1.3087 - val_accuracy: 0.4967\n",
      "Epoch 16/100\n",
      "23/23 [==============================] - 127s 6s/step - loss: 0.9909 - accuracy: 0.6404 - val_loss: 1.3918 - val_accuracy: 0.4833\n",
      "Epoch 17/100\n",
      "23/23 [==============================] - 130s 6s/step - loss: 0.9791 - accuracy: 0.6376 - val_loss: 1.7134 - val_accuracy: 0.4333\n",
      "Epoch 18/100\n",
      "23/23 [==============================] - 129s 6s/step - loss: 0.9942 - accuracy: 0.6292 - val_loss: 1.3582 - val_accuracy: 0.5133\n",
      "Epoch 19/100\n",
      "23/23 [==============================] - 135s 6s/step - loss: 0.9807 - accuracy: 0.6152 - val_loss: 1.3232 - val_accuracy: 0.4867\n",
      "Epoch 20/100\n",
      "23/23 [==============================] - 133s 6s/step - loss: 0.9295 - accuracy: 0.6517 - val_loss: 1.2906 - val_accuracy: 0.5300\n",
      "Epoch 21/100\n",
      "23/23 [==============================] - 128s 6s/step - loss: 0.9137 - accuracy: 0.6770 - val_loss: 1.2556 - val_accuracy: 0.5467\n",
      "Epoch 22/100\n",
      "23/23 [==============================] - 129s 6s/step - loss: 0.9220 - accuracy: 0.6657 - val_loss: 1.2331 - val_accuracy: 0.5033\n",
      "Epoch 23/100\n",
      "23/23 [==============================] - 125s 5s/step - loss: 0.9469 - accuracy: 0.6376 - val_loss: 1.2388 - val_accuracy: 0.5600\n",
      "Epoch 24/100\n",
      "23/23 [==============================] - 126s 6s/step - loss: 0.9029 - accuracy: 0.6713 - val_loss: 1.4951 - val_accuracy: 0.4400\n",
      "Epoch 25/100\n",
      "23/23 [==============================] - 125s 5s/step - loss: 0.9141 - accuracy: 0.6713 - val_loss: 1.3277 - val_accuracy: 0.5133\n",
      "Epoch 26/100\n",
      "23/23 [==============================] - 125s 6s/step - loss: 0.9145 - accuracy: 0.6770 - val_loss: 1.3740 - val_accuracy: 0.5067\n",
      "Epoch 27/100\n",
      "23/23 [==============================] - 124s 6s/step - loss: 0.8811 - accuracy: 0.6657 - val_loss: 1.3634 - val_accuracy: 0.5100\n",
      "Epoch 28/100\n",
      "23/23 [==============================] - 127s 6s/step - loss: 0.9022 - accuracy: 0.6264 - val_loss: 1.5537 - val_accuracy: 0.4000\n",
      "Epoch 29/100\n",
      "23/23 [==============================] - 126s 6s/step - loss: 0.8739 - accuracy: 0.6910 - val_loss: 1.2513 - val_accuracy: 0.5733\n",
      "Epoch 30/100\n",
      "23/23 [==============================] - 126s 6s/step - loss: 0.8380 - accuracy: 0.7107 - val_loss: 1.3654 - val_accuracy: 0.5300\n",
      "Epoch 31/100\n",
      "23/23 [==============================] - 127s 6s/step - loss: 0.8095 - accuracy: 0.7163 - val_loss: 1.1838 - val_accuracy: 0.5600\n",
      "Epoch 32/100\n",
      "23/23 [==============================] - 124s 5s/step - loss: 0.8385 - accuracy: 0.7135 - val_loss: 1.3529 - val_accuracy: 0.5233\n",
      "Epoch 33/100\n",
      "23/23 [==============================] - 126s 6s/step - loss: 0.7680 - accuracy: 0.7444 - val_loss: 1.3917 - val_accuracy: 0.5100\n",
      "Epoch 34/100\n",
      "23/23 [==============================] - 123s 5s/step - loss: 0.7813 - accuracy: 0.7303 - val_loss: 1.1996 - val_accuracy: 0.5600\n",
      "Epoch 35/100\n",
      "23/23 [==============================] - 124s 5s/step - loss: 0.8188 - accuracy: 0.6994 - val_loss: 1.3178 - val_accuracy: 0.5400\n",
      "Epoch 36/100\n",
      "23/23 [==============================] - 122s 5s/step - loss: 0.7819 - accuracy: 0.7275 - val_loss: 1.2696 - val_accuracy: 0.5867\n",
      "Epoch 37/100\n",
      "23/23 [==============================] - 126s 6s/step - loss: 0.7353 - accuracy: 0.7472 - val_loss: 1.2157 - val_accuracy: 0.5700\n",
      "Epoch 38/100\n",
      "23/23 [==============================] - 125s 6s/step - loss: 0.7711 - accuracy: 0.7247 - val_loss: 1.3143 - val_accuracy: 0.5267\n",
      "Epoch 39/100\n",
      "23/23 [==============================] - 120s 5s/step - loss: 0.7658 - accuracy: 0.7163 - val_loss: 1.4737 - val_accuracy: 0.4867\n",
      "Epoch 40/100\n",
      "23/23 [==============================] - 124s 6s/step - loss: 0.7660 - accuracy: 0.7022 - val_loss: 1.2464 - val_accuracy: 0.5933\n",
      "Epoch 41/100\n",
      "23/23 [==============================] - 121s 5s/step - loss: 0.7109 - accuracy: 0.7584 - val_loss: 1.2421 - val_accuracy: 0.5833\n",
      "Epoch 42/100\n",
      "23/23 [==============================] - 124s 5s/step - loss: 0.7116 - accuracy: 0.7781 - val_loss: 1.3173 - val_accuracy: 0.5367\n",
      "Epoch 43/100\n",
      "23/23 [==============================] - 127s 6s/step - loss: 0.7721 - accuracy: 0.6910 - val_loss: 1.4227 - val_accuracy: 0.5367\n",
      "Epoch 44/100\n",
      "23/23 [==============================] - 122s 5s/step - loss: 0.7370 - accuracy: 0.7584 - val_loss: 1.3981 - val_accuracy: 0.5300\n",
      "Epoch 45/100\n",
      "23/23 [==============================] - 124s 5s/step - loss: 0.7402 - accuracy: 0.7135 - val_loss: 1.3299 - val_accuracy: 0.6067\n",
      "Epoch 46/100\n",
      "23/23 [==============================] - 126s 6s/step - loss: 0.6857 - accuracy: 0.7725 - val_loss: 1.2203 - val_accuracy: 0.5700\n",
      "Epoch 47/100\n",
      "23/23 [==============================] - 125s 5s/step - loss: 0.7212 - accuracy: 0.7556 - val_loss: 1.2826 - val_accuracy: 0.5600\n",
      "Epoch 48/100\n",
      "23/23 [==============================] - 137s 6s/step - loss: 0.6969 - accuracy: 0.7556 - val_loss: 1.2001 - val_accuracy: 0.5533\n",
      "Epoch 49/100\n",
      "23/23 [==============================] - 129s 6s/step - loss: 0.7438 - accuracy: 0.7219 - val_loss: 1.2994 - val_accuracy: 0.5267\n",
      "Epoch 50/100\n",
      "23/23 [==============================] - 137s 6s/step - loss: 0.7064 - accuracy: 0.7303 - val_loss: 1.3045 - val_accuracy: 0.6033\n",
      "Epoch 51/100\n",
      "23/23 [==============================] - 133s 6s/step - loss: 0.6681 - accuracy: 0.7669 - val_loss: 1.4127 - val_accuracy: 0.5267\n",
      "Epoch 52/100\n",
      "23/23 [==============================] - 134s 6s/step - loss: 0.6473 - accuracy: 0.7753 - val_loss: 1.2267 - val_accuracy: 0.6033\n",
      "Epoch 53/100\n",
      "23/23 [==============================] - 130s 6s/step - loss: 0.6328 - accuracy: 0.7640 - val_loss: 1.2371 - val_accuracy: 0.6167\n",
      "Epoch 54/100\n",
      "23/23 [==============================] - 131s 6s/step - loss: 0.6839 - accuracy: 0.7669 - val_loss: 1.3034 - val_accuracy: 0.6100\n",
      "Epoch 55/100\n",
      "23/23 [==============================] - 130s 6s/step - loss: 0.6874 - accuracy: 0.7528 - val_loss: 1.1836 - val_accuracy: 0.6100\n",
      "Epoch 56/100\n",
      "23/23 [==============================] - 129s 6s/step - loss: 0.6162 - accuracy: 0.7893 - val_loss: 1.2437 - val_accuracy: 0.5833\n",
      "Epoch 57/100\n",
      "23/23 [==============================] - 139s 6s/step - loss: 0.6541 - accuracy: 0.7697 - val_loss: 1.2254 - val_accuracy: 0.6033\n",
      "Epoch 58/100\n",
      "23/23 [==============================] - 114s 5s/step - loss: 0.6655 - accuracy: 0.7669 - val_loss: 1.1782 - val_accuracy: 0.6133\n",
      "Epoch 59/100\n",
      "23/23 [==============================] - 112s 5s/step - loss: 0.5801 - accuracy: 0.7865 - val_loss: 1.3615 - val_accuracy: 0.5833\n",
      "Epoch 60/100\n",
      "23/23 [==============================] - 114s 5s/step - loss: 0.5932 - accuracy: 0.7978 - val_loss: 1.7043 - val_accuracy: 0.4233\n",
      "Epoch 61/100\n",
      "23/23 [==============================] - 115s 5s/step - loss: 0.6628 - accuracy: 0.7416 - val_loss: 1.4713 - val_accuracy: 0.5300\n",
      "Epoch 62/100\n",
      "23/23 [==============================] - 117s 5s/step - loss: 0.6721 - accuracy: 0.7303 - val_loss: 1.4163 - val_accuracy: 0.5767\n",
      "Epoch 63/100\n",
      "23/23 [==============================] - 121s 5s/step - loss: 0.5829 - accuracy: 0.8090 - val_loss: 1.2384 - val_accuracy: 0.5900\n",
      "Epoch 64/100\n",
      "23/23 [==============================] - 151s 7s/step - loss: 0.6013 - accuracy: 0.7949 - val_loss: 1.2315 - val_accuracy: 0.5900\n",
      "Epoch 65/100\n",
      "23/23 [==============================] - 156s 7s/step - loss: 0.5810 - accuracy: 0.7826 - val_loss: 1.3021 - val_accuracy: 0.6100\n",
      "Epoch 66/100\n",
      "23/23 [==============================] - 154s 7s/step - loss: 0.5959 - accuracy: 0.7893 - val_loss: 1.3599 - val_accuracy: 0.5433\n",
      "Epoch 67/100\n",
      "23/23 [==============================] - 154s 7s/step - loss: 0.5875 - accuracy: 0.7865 - val_loss: 1.3269 - val_accuracy: 0.5600\n",
      "Epoch 68/100\n",
      "23/23 [==============================] - 154s 7s/step - loss: 0.6332 - accuracy: 0.7556 - val_loss: 1.2781 - val_accuracy: 0.5767\n",
      "Epoch 69/100\n",
      "23/23 [==============================] - 155s 7s/step - loss: 0.5196 - accuracy: 0.8287 - val_loss: 1.3336 - val_accuracy: 0.6267\n",
      "Epoch 70/100\n",
      "23/23 [==============================] - 156s 7s/step - loss: 0.5731 - accuracy: 0.8174 - val_loss: 1.3804 - val_accuracy: 0.5633\n",
      "Epoch 71/100\n",
      "23/23 [==============================] - 153s 7s/step - loss: 0.5508 - accuracy: 0.8202 - val_loss: 1.3575 - val_accuracy: 0.6167\n",
      "Epoch 72/100\n",
      "23/23 [==============================] - 153s 7s/step - loss: 0.5374 - accuracy: 0.8062 - val_loss: 1.2731 - val_accuracy: 0.6133\n",
      "Epoch 73/100\n",
      "23/23 [==============================] - 155s 7s/step - loss: 0.5290 - accuracy: 0.8118 - val_loss: 1.8031 - val_accuracy: 0.4167\n",
      "Epoch 74/100\n",
      "23/23 [==============================] - 154s 7s/step - loss: 0.5523 - accuracy: 0.7949 - val_loss: 1.3817 - val_accuracy: 0.5933\n",
      "Epoch 75/100\n",
      "23/23 [==============================] - 162s 7s/step - loss: 0.5564 - accuracy: 0.7921 - val_loss: 1.2652 - val_accuracy: 0.6300\n",
      "Epoch 76/100\n",
      "23/23 [==============================] - 156s 7s/step - loss: 0.5465 - accuracy: 0.8315 - val_loss: 1.2944 - val_accuracy: 0.5700\n",
      "Epoch 77/100\n",
      "23/23 [==============================] - 156s 7s/step - loss: 0.5315 - accuracy: 0.8174 - val_loss: 1.4210 - val_accuracy: 0.5967\n",
      "Epoch 78/100\n",
      "23/23 [==============================] - 156s 7s/step - loss: 0.5036 - accuracy: 0.8258 - val_loss: 1.3982 - val_accuracy: 0.5867\n",
      "Epoch 79/100\n",
      "23/23 [==============================] - 155s 7s/step - loss: 0.5301 - accuracy: 0.8258 - val_loss: 1.4350 - val_accuracy: 0.5533\n",
      "Epoch 80/100\n",
      "23/23 [==============================] - 155s 7s/step - loss: 0.4948 - accuracy: 0.8315 - val_loss: 1.2501 - val_accuracy: 0.6167\n",
      "Epoch 81/100\n",
      "23/23 [==============================] - 156s 7s/step - loss: 0.5171 - accuracy: 0.8315 - val_loss: 1.3253 - val_accuracy: 0.5967\n",
      "Epoch 82/100\n",
      "23/23 [==============================] - 158s 7s/step - loss: 0.4935 - accuracy: 0.8315 - val_loss: 1.3290 - val_accuracy: 0.6267\n",
      "Epoch 83/100\n",
      "23/23 [==============================] - 157s 7s/step - loss: 0.4841 - accuracy: 0.8342 - val_loss: 1.3492 - val_accuracy: 0.5667\n",
      "Epoch 84/100\n",
      "23/23 [==============================] - 156s 7s/step - loss: 0.4798 - accuracy: 0.8399 - val_loss: 1.2327 - val_accuracy: 0.6200\n",
      "Epoch 85/100\n",
      "23/23 [==============================] - 156s 7s/step - loss: 0.5052 - accuracy: 0.8202 - val_loss: 1.1970 - val_accuracy: 0.6267\n",
      "Epoch 86/100\n",
      "23/23 [==============================] - 156s 7s/step - loss: 0.4915 - accuracy: 0.8230 - val_loss: 1.4384 - val_accuracy: 0.5600\n",
      "Epoch 87/100\n",
      "23/23 [==============================] - 156s 7s/step - loss: 0.4539 - accuracy: 0.8624 - val_loss: 1.2869 - val_accuracy: 0.6200\n",
      "Epoch 88/100\n",
      "23/23 [==============================] - 155s 7s/step - loss: 0.4958 - accuracy: 0.8174 - val_loss: 1.3542 - val_accuracy: 0.5833\n",
      "Epoch 89/100\n",
      "23/23 [==============================] - 155s 7s/step - loss: 0.4983 - accuracy: 0.8090 - val_loss: 1.4557 - val_accuracy: 0.5700\n",
      "Epoch 90/100\n",
      "23/23 [==============================] - 153s 7s/step - loss: 0.5110 - accuracy: 0.8315 - val_loss: 1.3625 - val_accuracy: 0.6200\n",
      "Epoch 91/100\n",
      "23/23 [==============================] - 149s 7s/step - loss: 0.4916 - accuracy: 0.8287 - val_loss: 1.4164 - val_accuracy: 0.6033\n",
      "Epoch 92/100\n",
      "23/23 [==============================] - 151s 7s/step - loss: 0.4348 - accuracy: 0.8596 - val_loss: 1.2645 - val_accuracy: 0.6033\n",
      "Epoch 93/100\n",
      "23/23 [==============================] - 155s 7s/step - loss: 0.5455 - accuracy: 0.8090 - val_loss: 1.4251 - val_accuracy: 0.5867\n",
      "Epoch 94/100\n",
      "23/23 [==============================] - 161s 7s/step - loss: 0.4699 - accuracy: 0.8399 - val_loss: 1.5969 - val_accuracy: 0.5233\n",
      "Epoch 95/100\n",
      "23/23 [==============================] - 169s 7s/step - loss: 0.4581 - accuracy: 0.8371 - val_loss: 1.6855 - val_accuracy: 0.5400\n",
      "Epoch 96/100\n",
      "23/23 [==============================] - 154s 7s/step - loss: 0.4696 - accuracy: 0.8230 - val_loss: 1.2880 - val_accuracy: 0.6100\n",
      "Epoch 97/100\n",
      "23/23 [==============================] - 153s 7s/step - loss: 0.4210 - accuracy: 0.8792 - val_loss: 1.2695 - val_accuracy: 0.6167\n",
      "Epoch 98/100\n",
      "23/23 [==============================] - 155s 7s/step - loss: 0.4288 - accuracy: 0.8567 - val_loss: 1.3507 - val_accuracy: 0.6067\n",
      "Epoch 99/100\n",
      "23/23 [==============================] - 150s 7s/step - loss: 0.4457 - accuracy: 0.8399 - val_loss: 1.3389 - val_accuracy: 0.6167\n",
      "Epoch 100/100\n",
      "23/23 [==============================] - 154s 7s/step - loss: 0.4191 - accuracy: 0.8624 - val_loss: 1.3904 - val_accuracy: 0.6100\n"
     ]
    }
   ],
   "source": [
    "history = model.fit(\n",
    "        train_generator,\n",
    "        epochs = 100,\n",
    "        steps_per_epoch=23,\n",
    "        validation_data = test_generator,\n",
    "        verbose = 1,\n",
    "        validation_steps=20)"
   ]
  },
  {
   "cell_type": "code",
   "execution_count": 21,
   "id": "96a0db76",
   "metadata": {},
   "outputs": [
    {
     "data": {
      "image/png": "[encoded data removed]",
      "text/plain": [
       "<Figure size 640x480 with 1 Axes>"
      ]
     },
     "metadata": {},
     "output_type": "display_data"
    },
    {
     "data": {
      "text/plain": [
       "<Figure size 640x480 with 0 Axes>"
      ]
     },
     "metadata": {},
     "output_type": "display_data"
    }
   ],
   "source": [
    "#plot the result \n",
    " \n",
    "acc = history.history['accuracy']\n",
    "val_acc = history.history['val_accuracy']\n",
    "\n",
    "loss = history.history['loss']\n",
    "\n",
    "epochs = range(len(acc))\n",
    "\n",
    "plt.plot(epochs, acc, 'r', label='Training accuracy')\n",
    "plt.plot(epochs, val_acc, 'b', label='Validation_accuracy')\n",
    "plt.title('Training and validation accuracy')\n",
    "plt.legend(loc=0)\n",
    "plt.figure()\n",
    "\n",
    "plt.show()"
   ]
  },
  {
   "cell_type": "code",
   "execution_count": null,
   "id": "118625ce",
   "metadata": {},
   "outputs": [],
   "source": [
    "1"
   ]
  }
 ],
 "metadata": {
  "kernelspec": {
   "display_name": "deeplearning",
   "language": "python",
   "name": "deeplearning"
  },
  "language_info": {
   "codemirror_mode": {
    "name": "ipython",
    "version": 3
   },
   "file_extension": ".py",
   "mimetype": "text/x-python",
   "name": "python",
   "nbconvert_exporter": "python",
   "pygments_lexer": "ipython3",
   "version": "3.9.18"
  }
 },
 "nbformat": 4,
 "nbformat_minor": 5
}
