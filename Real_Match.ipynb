{
  "cells": [
    {
      "cell_type": "markdown",
      "metadata": {
        "id": "view-in-github",
        "colab_type": "text"
      },
      "source": [
        "<a href=\"https://colab.research.google.com/github/Dzakiyy-ah/Paddy-Gorontalo-Image-Classification/blob/main/Real_Match.ipynb\" target=\"_parent\"><img src=\"https://colab.research.google.com/assets/colab-badge.svg\" alt=\"Open In Colab\"/></a>"
      ]
    },
    {
      "cell_type": "markdown",
      "metadata": {
        "id": "sCYIDw86T9mx"
      },
      "source": [
        "# **🔴Important Syntax**"
      ]
    },
    {
      "cell_type": "code",
      "execution_count": 1,
      "metadata": {
        "id": "LSoLWw-XK6hY"
      },
      "outputs": [],
      "source": [
        "import tensorflow as tf\n",
        "import numpy as np\n",
        "import matplotlib.pyplot as plt\n",
        "import pathlib\n",
        "import matplotlib.image as mpimg\n",
        "%matplotlib inline\n",
        "\n",
        "\n",
        "from tensorflow.keras.preprocessing import image\n",
        "from google.colab import files\n",
        "from google.colab import drive\n",
        "from PIL import ImageFile\n",
        "from tensorflow.keras.preprocessing.image import ImageDataGenerator\n",
        "from tensorflow.keras.callbacks import EarlyStopping"
      ]
    },
    {
      "cell_type": "code",
      "execution_count": 2,
      "metadata": {
        "colab": {
          "base_uri": "https://localhost:8080/"
        },
        "id": "FExx6eg2LXYP",
        "outputId": "10e86ec1-7541-42f9-c808-838d9a101196"
      },
      "outputs": [
        {
          "output_type": "stream",
          "name": "stdout",
          "text": [
            "Mounted at /content/gdrive\n"
          ]
        }
      ],
      "source": [
        "#Import Data\n",
        "drive.mount('/content/gdrive')"
      ]
    },
    {
      "cell_type": "code",
      "execution_count": 3,
      "metadata": {
        "id": "QbX2LPPZLurv"
      },
      "outputs": [],
      "source": [
        "#Path Data\n",
        "data_train = '/content/gdrive/My Drive/images'"
      ]
    },
    {
      "cell_type": "code",
      "execution_count": 4,
      "metadata": {
        "id": "tQUe4GKhOfTi"
      },
      "outputs": [],
      "source": [
        "early_stop = EarlyStopping(monitor='val_loss', mode='min', verbose=1, patience=5)"
      ]
    },
    {
      "cell_type": "markdown",
      "metadata": {
        "id": "41AG90aYKBoy"
      },
      "source": [
        "# 1️⃣ Bagian 1, Skenario 1 : Resize Citra\n",
        "---\n",
        "Parameter yang tetap dalam Skenario ini adalah sebagai berikut.\n",
        "\n",
        "*Optimizer* **Adam**\n",
        "*Epoch* **20**\n",
        "*Batch Size* **64**\n",
        "*Learning Rate* **0.0001**\n",
        "*Callback*"
      ]
    },
    {
      "cell_type": "markdown",
      "metadata": {
        "id": "LGri6i9EKQFx"
      },
      "source": [
        "## Resize Citra 64x64\n",
        "\n"
      ]
    },
    {
      "cell_type": "code",
      "execution_count": null,
      "metadata": {
        "id": "Ts9Key-xKPUL"
      },
      "outputs": [],
      "source": [
        "train_datagen = ImageDataGenerator(\n",
        "    rescale=1./255.,\n",
        "    zoom_range=0.2,\n",
        "    shear_range=0.2,\n",
        "    rotation_range=30,\n",
        "    horizontal_flip=True,\n",
        "    fill_mode='nearest',\n",
        "    validation_split=0.2,\n",
        "    # preprocessing_function=AHE\n",
        ")"
      ]
    },
    {
      "cell_type": "code",
      "execution_count": null,
      "metadata": {
        "colab": {
          "base_uri": "https://localhost:8080/"
        },
        "id": "UFEDDiA2MDUW",
        "outputId": "41854918-b28f-4723-f680-b0683457b829"
      },
      "outputs": [
        {
          "name": "stdout",
          "output_type": "stream",
          "text": [
            "Found 4363 images belonging to 5 classes.\n",
            "Found 1089 images belonging to 5 classes.\n"
          ]
        }
      ],
      "source": [
        "train_generator = train_datagen.flow_from_directory(\n",
        "    data_train,\n",
        "    target_size=(64,64),\n",
        "    batch_size=64,\n",
        "    class_mode='categorical',\n",
        "    subset='training'\n",
        ")\n",
        "\n",
        "val_generator = train_datagen.flow_from_directory(\n",
        "    data_train,\n",
        "    target_size=(64,64),\n",
        "    batch_size=64,\n",
        "    class_mode='categorical',\n",
        "    subset='validation'\n",
        ")"
      ]
    },
    {
      "cell_type": "code",
      "execution_count": null,
      "metadata": {
        "id": "PZVkH-UpML_k"
      },
      "outputs": [],
      "source": [
        "model = tf.keras.models.Sequential([\n",
        "    tf.keras.layers.Conv2D(64, (3,3), activation='relu', input_shape=(64, 64, 3)),\n",
        "    tf.keras.layers.MaxPooling2D(2,2),\n",
        "    tf.keras.layers.Conv2D(128, (3,3), activation='relu'),\n",
        "    tf.keras.layers.MaxPooling2D(2,2),\n",
        "    # Flatten the results to feed into a DNN\n",
        "    tf.keras.layers.Flatten(),\n",
        "    # 512 neuron hidden layer\n",
        "    tf.keras.layers.Dense(512, activation='relu'),\n",
        "    tf.keras.layers.Dense(256, activation='relu'),\n",
        "    tf.keras.layers.Dense(5, activation='softmax')\n",
        "])"
      ]
    },
    {
      "cell_type": "code",
      "execution_count": null,
      "metadata": {
        "colab": {
          "base_uri": "https://localhost:8080/"
        },
        "id": "GbrLv5xPMPiv",
        "outputId": "ad6d2691-ef7e-460b-cc11-12ee645ea1d9"
      },
      "outputs": [
        {
          "data": {
            "text/plain": [
              "array([0, 0, 0, ..., 4, 4, 4], dtype=int32)"
            ]
          },
          "execution_count": 10,
          "metadata": {},
          "output_type": "execute_result"
        }
      ],
      "source": [
        "train_generator.classes"
      ]
    },
    {
      "cell_type": "code",
      "execution_count": null,
      "metadata": {
        "id": "vQTQ2ZfMMlxY"
      },
      "outputs": [],
      "source": [
        "ImageFile.LOAD_TRUNCATED_IMAGES = True"
      ]
    },
    {
      "cell_type": "code",
      "execution_count": null,
      "metadata": {
        "id": "vJApfxnKM3UF"
      },
      "outputs": [],
      "source": [
        "model.compile(optimizer=tf.optimizers.Adam(learning_rate=0.0001),\n",
        "              loss='categorical_crossentropy',\n",
        "              metrics = ['accuracy'])"
      ]
    },
    {
      "cell_type": "code",
      "execution_count": null,
      "metadata": {
        "colab": {
          "base_uri": "https://localhost:8080/"
        },
        "id": "bT-31J8mOP_K",
        "outputId": "2547c417-5123-4a0d-dc2b-a8cbfe41ab35"
      },
      "outputs": [
        {
          "name": "stdout",
          "output_type": "stream",
          "text": [
            "Epoch 1/20\n",
            "69/69 [==============================] - 1789s 26s/step - loss: 1.2986 - accuracy: 0.4634 - val_loss: 1.1059 - val_accuracy: 0.5620\n",
            "Epoch 2/20\n",
            "69/69 [==============================] - 200s 3s/step - loss: 1.1272 - accuracy: 0.5602 - val_loss: 1.1005 - val_accuracy: 0.5390\n",
            "Epoch 3/20\n",
            "69/69 [==============================] - 202s 3s/step - loss: 1.0685 - accuracy: 0.5721 - val_loss: 1.0555 - val_accuracy: 0.5638\n",
            "Epoch 4/20\n",
            "69/69 [==============================] - 202s 3s/step - loss: 1.0023 - accuracy: 0.6058 - val_loss: 0.9273 - val_accuracy: 0.6125\n",
            "Epoch 5/20\n",
            "69/69 [==============================] - 205s 3s/step - loss: 0.9326 - accuracy: 0.6463 - val_loss: 0.8552 - val_accuracy: 0.6621\n",
            "Epoch 6/20\n",
            "69/69 [==============================] - 207s 3s/step - loss: 0.8793 - accuracy: 0.6580 - val_loss: 0.8294 - val_accuracy: 0.6694\n",
            "Epoch 7/20\n",
            "69/69 [==============================] - 198s 3s/step - loss: 0.8381 - accuracy: 0.6748 - val_loss: 0.7978 - val_accuracy: 0.6639\n",
            "Epoch 8/20\n",
            "69/69 [==============================] - 193s 3s/step - loss: 0.8038 - accuracy: 0.6915 - val_loss: 0.7792 - val_accuracy: 0.6731\n",
            "Epoch 9/20\n",
            "69/69 [==============================] - 203s 3s/step - loss: 0.7791 - accuracy: 0.6910 - val_loss: 0.7407 - val_accuracy: 0.7034\n",
            "Epoch 10/20\n",
            "69/69 [==============================] - 211s 3s/step - loss: 0.7675 - accuracy: 0.6961 - val_loss: 0.7211 - val_accuracy: 0.7052\n",
            "Epoch 11/20\n",
            "69/69 [==============================] - 201s 3s/step - loss: 0.7349 - accuracy: 0.7137 - val_loss: 0.6938 - val_accuracy: 0.7107\n",
            "Epoch 12/20\n",
            "69/69 [==============================] - 201s 3s/step - loss: 0.7209 - accuracy: 0.7190 - val_loss: 0.7003 - val_accuracy: 0.7025\n",
            "Epoch 13/20\n",
            "69/69 [==============================] - 206s 3s/step - loss: 0.6873 - accuracy: 0.7339 - val_loss: 0.6787 - val_accuracy: 0.7383\n",
            "Epoch 14/20\n",
            "69/69 [==============================] - 202s 3s/step - loss: 0.6702 - accuracy: 0.7426 - val_loss: 0.6958 - val_accuracy: 0.7117\n",
            "Epoch 15/20\n",
            "69/69 [==============================] - 201s 3s/step - loss: 0.6592 - accuracy: 0.7463 - val_loss: 0.6475 - val_accuracy: 0.7447\n",
            "Epoch 16/20\n",
            "69/69 [==============================] - 208s 3s/step - loss: 0.6364 - accuracy: 0.7513 - val_loss: 0.6946 - val_accuracy: 0.7300\n",
            "Epoch 17/20\n",
            "69/69 [==============================] - 203s 3s/step - loss: 0.6233 - accuracy: 0.7603 - val_loss: 0.6502 - val_accuracy: 0.7346\n",
            "Epoch 18/20\n",
            "69/69 [==============================] - 203s 3s/step - loss: 0.5958 - accuracy: 0.7692 - val_loss: 0.6167 - val_accuracy: 0.7548\n",
            "Epoch 19/20\n",
            "69/69 [==============================] - 201s 3s/step - loss: 0.5990 - accuracy: 0.7690 - val_loss: 0.6328 - val_accuracy: 0.7410\n",
            "Epoch 20/20\n",
            "69/69 [==============================] - 203s 3s/step - loss: 0.5998 - accuracy: 0.7651 - val_loss: 0.5824 - val_accuracy: 0.7723\n"
          ]
        }
      ],
      "source": [
        "history = model.fit(train_generator,\n",
        "                    validation_data=val_generator,\n",
        "                    epochs=20,\n",
        "                    callbacks=[early_stop],\n",
        "                    verbose=1)"
      ]
    },
    {
      "cell_type": "markdown",
      "metadata": {
        "id": "VZCBv_KoPiQe"
      },
      "source": [
        "### Evaluasi Resize Citra 64x64"
      ]
    },
    {
      "cell_type": "code",
      "execution_count": null,
      "metadata": {
        "colab": {
          "base_uri": "https://localhost:8080/",
          "height": 861
        },
        "id": "wtGJohOfQcqD",
        "outputId": "b68f3b60-046e-4f3e-fdc4-908014c4ce45"
      },
      "outputs": [
        {
          "data": {
            "image/png": "[encoded data removed]",
            "text/plain": [
              "<Figure size 640x480 with 1 Axes>"
            ]
          },
          "metadata": {},
          "output_type": "display_data"
        },
        {
          "data": {
            "image/png": "[encoded data removed]",
            "text/plain": [
              "<Figure size 640x480 with 1 Axes>"
            ]
          },
          "metadata": {},
          "output_type": "display_data"
        },
        {
          "data": {
            "text/plain": [
              "<Figure size 640x480 with 0 Axes>"
            ]
          },
          "metadata": {},
          "output_type": "display_data"
        }
      ],
      "source": [
        "plt.plot(history.history['loss'], label='Train Loss')\n",
        "plt.plot(history.history['val_loss'], label='Val Loss')\n",
        "plt.legend()\n",
        "plt.show()\n",
        "plt.savefig('LossVal_loss_S101')\n",
        "\n",
        "plt.plot(history.history['accuracy'], label='Train Accuracy')\n",
        "plt.plot(history.history['val_accuracy'], label='Val Accuracy')\n",
        "plt.legend()\n",
        "plt.show()\n",
        "plt.savefig('AccVal_acc_S101')"
      ]
    },
    {
      "cell_type": "code",
      "execution_count": null,
      "metadata": {
        "colab": {
          "base_uri": "https://localhost:8080/"
        },
        "id": "9Bz40wIBOXyb",
        "outputId": "0e2d5ad2-2515-40d7-9132-f67f132dfb21"
      },
      "outputs": [
        {
          "name": "stdout",
          "output_type": "stream",
          "text": [
            "69/69 [==============================] - 121s 2s/step\n",
            "              precision    recall  f1-score   support\n",
            "\n",
            "           0       0.33      0.37      0.35      1412\n",
            "           1       0.13      0.10      0.11       545\n",
            "           2       0.11      0.11      0.11       400\n",
            "           3       0.12      0.15      0.14       586\n",
            "           4       0.32      0.28      0.30      1420\n",
            "\n",
            "    accuracy                           0.25      4363\n",
            "   macro avg       0.20      0.20      0.20      4363\n",
            "weighted avg       0.25      0.25      0.25      4363\n",
            "\n"
          ]
        }
      ],
      "source": [
        "from sklearn.metrics import classification_report\n",
        "\n",
        "Y_pred = model.predict(train_generator)\n",
        "y_pred = np.argmax(Y_pred, axis=1)\n",
        "\n",
        "print(classification_report(train_generator.classes, y_pred))"
      ]
    },
    {
      "cell_type": "markdown",
      "metadata": {
        "id": "ha96ZfJfRbZv"
      },
      "source": [
        "## Resize Citra 128x128"
      ]
    },
    {
      "cell_type": "code",
      "execution_count": null,
      "metadata": {
        "id": "RMDg3KQ-Rh2K"
      },
      "outputs": [],
      "source": [
        "train_datagen = ImageDataGenerator(\n",
        "    rescale=1./255.,\n",
        "    zoom_range=0.2,\n",
        "    shear_range=0.2,\n",
        "    rotation_range=30,\n",
        "    horizontal_flip=True,\n",
        "    fill_mode='nearest',\n",
        "    validation_split=0.2,\n",
        "    # preprocessing_function=AHE\n",
        ")"
      ]
    },
    {
      "cell_type": "code",
      "execution_count": null,
      "metadata": {
        "colab": {
          "base_uri": "https://localhost:8080/"
        },
        "id": "hmX92ulwRnhn",
        "outputId": "3ec14d7e-b98a-49e8-adba-a4bf5958abe5"
      },
      "outputs": [
        {
          "name": "stdout",
          "output_type": "stream",
          "text": [
            "Found 4363 images belonging to 5 classes.\n",
            "Found 1089 images belonging to 5 classes.\n"
          ]
        }
      ],
      "source": [
        "train_generator = train_datagen.flow_from_directory(\n",
        "    data_train,\n",
        "    target_size=(128,128),\n",
        "    batch_size=64,\n",
        "    class_mode='categorical',\n",
        "    subset='training'\n",
        ")\n",
        "\n",
        "val_generator = train_datagen.flow_from_directory(\n",
        "    data_train,\n",
        "    target_size=(128,128),\n",
        "    batch_size=64,\n",
        "    class_mode='categorical',\n",
        "    subset='validation'\n",
        ")"
      ]
    },
    {
      "cell_type": "code",
      "execution_count": null,
      "metadata": {
        "id": "ijfmTxz5RrGg"
      },
      "outputs": [],
      "source": [
        "model = tf.keras.models.Sequential([\n",
        "    tf.keras.layers.Conv2D(64, (3,3), activation='relu', input_shape=(128, 128, 3)),\n",
        "    tf.keras.layers.MaxPooling2D(2,2),\n",
        "    tf.keras.layers.Conv2D(128, (3,3), activation='relu'),\n",
        "    tf.keras.layers.MaxPooling2D(2,2),\n",
        "    # Flatten the results to feed into a DNN\n",
        "    tf.keras.layers.Flatten(),\n",
        "    # 512 neuron hidden layer\n",
        "    tf.keras.layers.Dense(512, activation='relu'),\n",
        "    tf.keras.layers.Dense(256, activation='relu'),\n",
        "    tf.keras.layers.Dense(5, activation='softmax')\n",
        "])"
      ]
    },
    {
      "cell_type": "code",
      "execution_count": null,
      "metadata": {
        "colab": {
          "base_uri": "https://localhost:8080/"
        },
        "id": "WXSFewy_Ru2I",
        "outputId": "dae1ccc0-16ad-4875-c6eb-2f2253b8f562"
      },
      "outputs": [
        {
          "data": {
            "text/plain": [
              "array([0, 0, 0, ..., 4, 4, 4], dtype=int32)"
            ]
          },
          "execution_count": 9,
          "metadata": {},
          "output_type": "execute_result"
        }
      ],
      "source": [
        "train_generator.classes"
      ]
    },
    {
      "cell_type": "code",
      "execution_count": null,
      "metadata": {
        "id": "3AF0DvSDR3tp"
      },
      "outputs": [],
      "source": [
        "ImageFile.LOAD_TRUNCATED_IMAGES = True"
      ]
    },
    {
      "cell_type": "code",
      "execution_count": null,
      "metadata": {
        "id": "8uoa82GsR5pE"
      },
      "outputs": [],
      "source": [
        "model.compile(optimizer=tf.optimizers.Adam(learning_rate=0.0001),\n",
        "              loss='categorical_crossentropy',\n",
        "              metrics = ['accuracy'])"
      ]
    },
    {
      "cell_type": "code",
      "execution_count": null,
      "metadata": {
        "colab": {
          "base_uri": "https://localhost:8080/"
        },
        "id": "Atmrq93kR7pp",
        "outputId": "8b5221c3-8c59-4921-c5cc-08e6e465a377"
      },
      "outputs": [
        {
          "name": "stdout",
          "output_type": "stream",
          "text": [
            "Epoch 1/20\n",
            "69/69 [==============================] - 1492s 22s/step - loss: 1.2455 - accuracy: 0.5038 - val_loss: 1.0896 - val_accuracy: 0.5638\n",
            "Epoch 2/20\n",
            "69/69 [==============================] - 547s 8s/step - loss: 1.0964 - accuracy: 0.5698 - val_loss: 0.9330 - val_accuracy: 0.6556\n",
            "Epoch 3/20\n",
            "69/69 [==============================] - 549s 8s/step - loss: 0.9543 - accuracy: 0.6310 - val_loss: 0.8650 - val_accuracy: 0.6529\n",
            "Epoch 4/20\n",
            "69/69 [==============================] - 553s 8s/step - loss: 0.8968 - accuracy: 0.6555 - val_loss: 0.8233 - val_accuracy: 0.6731\n",
            "Epoch 5/20\n",
            "69/69 [==============================] - 524s 8s/step - loss: 0.8244 - accuracy: 0.6826 - val_loss: 0.7497 - val_accuracy: 0.7098\n",
            "Epoch 6/20\n",
            "69/69 [==============================] - 555s 8s/step - loss: 0.7961 - accuracy: 0.6881 - val_loss: 0.7628 - val_accuracy: 0.7034\n",
            "Epoch 7/20\n",
            "69/69 [==============================] - 551s 8s/step - loss: 0.7623 - accuracy: 0.7050 - val_loss: 0.7665 - val_accuracy: 0.6951\n",
            "Epoch 8/20\n",
            "69/69 [==============================] - 522s 8s/step - loss: 0.7344 - accuracy: 0.7201 - val_loss: 0.7278 - val_accuracy: 0.7025\n",
            "Epoch 9/20\n",
            "69/69 [==============================] - 552s 8s/step - loss: 0.6875 - accuracy: 0.7334 - val_loss: 0.6605 - val_accuracy: 0.7466\n",
            "Epoch 10/20\n",
            "69/69 [==============================] - 567s 8s/step - loss: 0.6556 - accuracy: 0.7408 - val_loss: 0.6180 - val_accuracy: 0.7576\n",
            "Epoch 11/20\n",
            "69/69 [==============================] - 568s 8s/step - loss: 0.6400 - accuracy: 0.7504 - val_loss: 0.6266 - val_accuracy: 0.7695\n",
            "Epoch 12/20\n",
            "69/69 [==============================] - 549s 8s/step - loss: 0.6171 - accuracy: 0.7660 - val_loss: 0.5878 - val_accuracy: 0.7805\n",
            "Epoch 13/20\n",
            "69/69 [==============================] - 540s 8s/step - loss: 0.5954 - accuracy: 0.7676 - val_loss: 0.6535 - val_accuracy: 0.7365\n",
            "Epoch 14/20\n",
            "69/69 [==============================] - 551s 8s/step - loss: 0.5652 - accuracy: 0.7834 - val_loss: 0.5827 - val_accuracy: 0.7640\n",
            "Epoch 15/20\n",
            "69/69 [==============================] - 534s 8s/step - loss: 0.5569 - accuracy: 0.7852 - val_loss: 0.5292 - val_accuracy: 0.8108\n",
            "Epoch 16/20\n",
            "69/69 [==============================] - 520s 7s/step - loss: 0.5286 - accuracy: 0.7978 - val_loss: 0.5437 - val_accuracy: 0.7769\n",
            "Epoch 17/20\n",
            "69/69 [==============================] - 555s 8s/step - loss: 0.5444 - accuracy: 0.7930 - val_loss: 0.5571 - val_accuracy: 0.7778\n",
            "Epoch 18/20\n",
            "69/69 [==============================] - 552s 8s/step - loss: 0.5015 - accuracy: 0.8095 - val_loss: 0.5624 - val_accuracy: 0.7640\n",
            "Epoch 19/20\n",
            "69/69 [==============================] - 564s 8s/step - loss: 0.4856 - accuracy: 0.8178 - val_loss: 0.4978 - val_accuracy: 0.8062\n",
            "Epoch 20/20\n",
            "69/69 [==============================] - 554s 8s/step - loss: 0.4787 - accuracy: 0.8166 - val_loss: 0.5623 - val_accuracy: 0.7741\n"
          ]
        }
      ],
      "source": [
        "history = model.fit(train_generator,\n",
        "                    validation_data=val_generator,\n",
        "                    epochs=20,\n",
        "                    callbacks=[early_stop],\n",
        "                    verbose=1)"
      ]
    },
    {
      "cell_type": "markdown",
      "metadata": {
        "id": "vQ8EAi2uR8HP"
      },
      "source": [
        "### Evaluasi Citra 128x128"
      ]
    },
    {
      "cell_type": "code",
      "execution_count": null,
      "metadata": {
        "colab": {
          "base_uri": "https://localhost:8080/",
          "height": 843
        },
        "id": "hz6r-uhMR_Wf",
        "outputId": "a4e0dde8-4512-430b-8206-0c8cee8f47d3"
      },
      "outputs": [
        {
          "data": {
            "image/png": "[encoded data removed]",
            "text/plain": [
              "<Figure size 640x480 with 1 Axes>"
            ]
          },
          "metadata": {},
          "output_type": "display_data"
        },
        {
          "data": {
            "image/png": "[encoded data removed]",
            "text/plain": [
              "<Figure size 640x480 with 1 Axes>"
            ]
          },
          "metadata": {},
          "output_type": "display_data"
        }
      ],
      "source": [
        "plt.plot(history.history['loss'], label='Train Loss')\n",
        "plt.plot(history.history['val_loss'], label='Val Loss')\n",
        "plt.legend()\n",
        "plt.show()\n",
        "# plt.savefig(LossVal_loss_S102)\n",
        "\n",
        "plt.plot(history.history['accuracy'], label='Train Accuracy')\n",
        "plt.plot(history.history['val_accuracy'], label='Val Accuracy')\n",
        "plt.legend()\n",
        "plt.show()\n",
        "# plt.savefig(AccVal_acc_S102)"
      ]
    },
    {
      "cell_type": "code",
      "execution_count": null,
      "metadata": {
        "colab": {
          "base_uri": "https://localhost:8080/"
        },
        "id": "nqkgjv-iSEeC",
        "outputId": "bda835dd-8123-4ceb-d3e7-312618cd29d9"
      },
      "outputs": [
        {
          "name": "stdout",
          "output_type": "stream",
          "text": [
            "69/69 [==============================] - 224s 3s/step\n",
            "              precision    recall  f1-score   support\n",
            "\n",
            "           0       0.31      0.38      0.34      1412\n",
            "           1       0.15      0.10      0.12       545\n",
            "           2       0.09      0.14      0.10       400\n",
            "           3       0.11      0.08      0.09       586\n",
            "           4       0.32      0.27      0.30      1420\n",
            "\n",
            "    accuracy                           0.25      4363\n",
            "   macro avg       0.20      0.19      0.19      4363\n",
            "weighted avg       0.25      0.25      0.24      4363\n",
            "\n"
          ]
        }
      ],
      "source": [
        "from sklearn.metrics import classification_report\n",
        "\n",
        "Y_pred = model.predict(train_generator)\n",
        "y_pred = np.argmax(Y_pred, axis=1)\n",
        "\n",
        "print(classification_report(train_generator.classes, y_pred))"
      ]
    },
    {
      "cell_type": "markdown",
      "metadata": {
        "id": "bzVTcv6VSLhD"
      },
      "source": [
        "## Resize Citra 150x150"
      ]
    },
    {
      "cell_type": "code",
      "execution_count": null,
      "metadata": {
        "id": "_6ZuyZz0SQMA"
      },
      "outputs": [],
      "source": [
        "train_datagen = ImageDataGenerator(\n",
        "    rescale=1./255.,\n",
        "    zoom_range=0.2,\n",
        "    shear_range=0.2,\n",
        "    rotation_range=30,\n",
        "    horizontal_flip=True,\n",
        "    fill_mode='nearest',\n",
        "    validation_split=0.2,\n",
        "    # preprocessing_function=AHE\n",
        ")"
      ]
    },
    {
      "cell_type": "code",
      "execution_count": null,
      "metadata": {
        "colab": {
          "base_uri": "https://localhost:8080/"
        },
        "id": "ZpCt7heCSVg6",
        "outputId": "dde96c4b-f593-4c66-f0cf-67c942185181"
      },
      "outputs": [
        {
          "name": "stdout",
          "output_type": "stream",
          "text": [
            "Found 4363 images belonging to 5 classes.\n",
            "Found 1089 images belonging to 5 classes.\n"
          ]
        }
      ],
      "source": [
        "train_generator = train_datagen.flow_from_directory(\n",
        "    data_train,\n",
        "    target_size=(150,150),\n",
        "    batch_size=64,\n",
        "    class_mode='categorical',\n",
        "    subset='training'\n",
        ")\n",
        "\n",
        "val_generator = train_datagen.flow_from_directory(\n",
        "    data_train,\n",
        "    target_size=(150,150),\n",
        "    batch_size=64,\n",
        "    class_mode='categorical',\n",
        "    subset='validation'\n",
        ")"
      ]
    },
    {
      "cell_type": "code",
      "execution_count": null,
      "metadata": {
        "id": "jh8s2HloSbjq"
      },
      "outputs": [],
      "source": [
        "model = tf.keras.models.Sequential([\n",
        "    tf.keras.layers.Conv2D(64, (3,3), activation='relu', input_shape=(150, 150, 3)),\n",
        "    tf.keras.layers.MaxPooling2D(2,2),\n",
        "    tf.keras.layers.Conv2D(128, (3,3), activation='relu'),\n",
        "    tf.keras.layers.MaxPooling2D(2,2),\n",
        "    # Flatten the results to feed into a DNN\n",
        "    tf.keras.layers.Flatten(),\n",
        "    # 512 neuron hidden layer\n",
        "    tf.keras.layers.Dense(512, activation='relu'),\n",
        "    tf.keras.layers.Dense(256, activation='relu'),\n",
        "    tf.keras.layers.Dense(5, activation='softmax')\n",
        "])"
      ]
    },
    {
      "cell_type": "code",
      "execution_count": null,
      "metadata": {
        "colab": {
          "base_uri": "https://localhost:8080/",
          "height": 976
        },
        "id": "e1XyAAxm5xAQ",
        "outputId": "d415e869-809a-483c-94cb-f3d8ff03726c"
      },
      "outputs": [
        {
          "data": {
            "image/png": "[encoded data removed]",
            "text/plain": [
              "<IPython.core.display.Image object>"
            ]
          },
          "execution_count": 31,
          "metadata": {},
          "output_type": "execute_result"
        }
      ],
      "source": [
        "#intermezzo\n",
        "import keras\n",
        "import IPython\n",
        "keras.utils.plot_model(model, to_file='test_keras_plot_model.png', show_shapes=True)\n",
        "IPython.display.Image(\"test_keras_plot_model.png\")"
      ]
    },
    {
      "cell_type": "code",
      "execution_count": null,
      "metadata": {
        "colab": {
          "base_uri": "https://localhost:8080/"
        },
        "id": "SLPQVfrcSdfa",
        "outputId": "c926cc13-4087-4884-c2e6-5bc834ff1c21"
      },
      "outputs": [
        {
          "data": {
            "text/plain": [
              "array([0, 0, 0, ..., 4, 4, 4], dtype=int32)"
            ]
          },
          "execution_count": 32,
          "metadata": {},
          "output_type": "execute_result"
        }
      ],
      "source": [
        "train_generator.classes"
      ]
    },
    {
      "cell_type": "code",
      "execution_count": null,
      "metadata": {
        "id": "0BKOOY2-SfWK"
      },
      "outputs": [],
      "source": [
        "ImageFile.LOAD_TRUNCATED_IMAGES = True"
      ]
    },
    {
      "cell_type": "code",
      "execution_count": null,
      "metadata": {
        "id": "HpHCYb9ZSkfL"
      },
      "outputs": [],
      "source": [
        "model.compile(optimizer=tf.optimizers.Adam(learning_rate=0.0001),\n",
        "              loss='categorical_crossentropy',\n",
        "              metrics = ['accuracy'])"
      ]
    },
    {
      "cell_type": "code",
      "execution_count": null,
      "metadata": {
        "colab": {
          "base_uri": "https://localhost:8080/"
        },
        "id": "J-241xo6Skie",
        "outputId": "2c2b8114-8c70-414e-f822-7f4ed4357c24"
      },
      "outputs": [
        {
          "name": "stdout",
          "output_type": "stream",
          "text": [
            "Epoch 1/20\n",
            "69/69 [==============================] - 698s 10s/step - loss: 1.2645 - accuracy: 0.5019 - val_loss: 1.0452 - val_accuracy: 0.6244\n",
            "Epoch 2/20\n",
            "69/69 [==============================] - 681s 10s/step - loss: 1.0523 - accuracy: 0.6044 - val_loss: 0.9239 - val_accuracy: 0.6740\n",
            "Epoch 3/20\n",
            "69/69 [==============================] - 699s 10s/step - loss: 0.9306 - accuracy: 0.6356 - val_loss: 0.8686 - val_accuracy: 0.6575\n",
            "Epoch 4/20\n",
            "69/69 [==============================] - 698s 10s/step - loss: 0.8959 - accuracy: 0.6507 - val_loss: 0.9879 - val_accuracy: 0.6217\n",
            "Epoch 5/20\n",
            "69/69 [==============================] - 692s 10s/step - loss: 0.8269 - accuracy: 0.6812 - val_loss: 0.7509 - val_accuracy: 0.7126\n",
            "Epoch 6/20\n",
            "69/69 [==============================] - 693s 10s/step - loss: 0.7804 - accuracy: 0.6972 - val_loss: 0.8003 - val_accuracy: 0.6612\n",
            "Epoch 7/20\n",
            "69/69 [==============================] - 698s 10s/step - loss: 0.7635 - accuracy: 0.7089 - val_loss: 0.7412 - val_accuracy: 0.7080\n",
            "Epoch 8/20\n",
            "69/69 [==============================] - 720s 10s/step - loss: 0.6975 - accuracy: 0.7334 - val_loss: 0.6994 - val_accuracy: 0.7383\n",
            "Epoch 9/20\n",
            "69/69 [==============================] - 707s 10s/step - loss: 0.6864 - accuracy: 0.7289 - val_loss: 0.7068 - val_accuracy: 0.7098\n",
            "Epoch 10/20\n",
            "69/69 [==============================] - 691s 10s/step - loss: 0.6542 - accuracy: 0.7477 - val_loss: 0.6440 - val_accuracy: 0.7557\n",
            "Epoch 11/20\n",
            "69/69 [==============================] - 696s 10s/step - loss: 0.6315 - accuracy: 0.7566 - val_loss: 0.7222 - val_accuracy: 0.7264\n",
            "Epoch 12/20\n",
            "69/69 [==============================] - 697s 10s/step - loss: 0.6022 - accuracy: 0.7632 - val_loss: 0.6047 - val_accuracy: 0.7677\n",
            "Epoch 13/20\n",
            "69/69 [==============================] - 690s 10s/step - loss: 0.5704 - accuracy: 0.7807 - val_loss: 0.5510 - val_accuracy: 0.7888\n",
            "Epoch 14/20\n",
            "69/69 [==============================] - 670s 10s/step - loss: 0.5510 - accuracy: 0.7825 - val_loss: 0.5486 - val_accuracy: 0.7943\n",
            "Epoch 15/20\n",
            "69/69 [==============================] - 693s 10s/step - loss: 0.5582 - accuracy: 0.7786 - val_loss: 0.6839 - val_accuracy: 0.7208\n",
            "Epoch 16/20\n",
            "69/69 [==============================] - 692s 10s/step - loss: 0.5341 - accuracy: 0.7951 - val_loss: 0.5535 - val_accuracy: 0.7815\n",
            "Epoch 17/20\n",
            "69/69 [==============================] - 672s 10s/step - loss: 0.5400 - accuracy: 0.7855 - val_loss: 0.5403 - val_accuracy: 0.7842\n",
            "Epoch 18/20\n",
            "69/69 [==============================] - 688s 10s/step - loss: 0.4903 - accuracy: 0.8198 - val_loss: 0.5624 - val_accuracy: 0.7695\n",
            "Epoch 19/20\n",
            "69/69 [==============================] - 723s 11s/step - loss: 0.4873 - accuracy: 0.8169 - val_loss: 0.5451 - val_accuracy: 0.7870\n",
            "Epoch 20/20\n",
            "69/69 [==============================] - 700s 10s/step - loss: 0.4722 - accuracy: 0.8169 - val_loss: 0.5105 - val_accuracy: 0.8007\n"
          ]
        }
      ],
      "source": [
        "history = model.fit(train_generator,\n",
        "                    validation_data=val_generator,\n",
        "                    epochs=20,\n",
        "                    callbacks=[early_stop],\n",
        "                    verbose=1)"
      ]
    },
    {
      "cell_type": "markdown",
      "metadata": {
        "id": "4izqRwTZSptZ"
      },
      "source": [
        "### Evaluasi Resize Citra 150x150"
      ]
    },
    {
      "cell_type": "code",
      "execution_count": null,
      "metadata": {
        "colab": {
          "base_uri": "https://localhost:8080/",
          "height": 847
        },
        "id": "rczXnilfStUn",
        "outputId": "4be8d7fa-f3dc-441e-bf4c-15c0ce9cd810"
      },
      "outputs": [
        {
          "data": {
            "image/png": "[encoded data removed]",
            "text/plain": [
              "<Figure size 640x480 with 1 Axes>"
            ]
          },
          "metadata": {},
          "output_type": "display_data"
        },
        {
          "data": {
            "image/png": "[encoded data removed]",
            "text/plain": [
              "<Figure size 640x480 with 1 Axes>"
            ]
          },
          "metadata": {},
          "output_type": "display_data"
        }
      ],
      "source": [
        "plt.plot(history.history['loss'], label='Train Loss')\n",
        "plt.plot(history.history['val_loss'], label='Val Loss')\n",
        "plt.legend()\n",
        "plt.show()\n",
        "# plt.savefig(LossVal_loss_S103)\n",
        "\n",
        "plt.plot(history.history['accuracy'], label='Train Accuracy')\n",
        "plt.plot(history.history['val_accuracy'], label='Val Accuracy')\n",
        "plt.legend()\n",
        "plt.show()\n",
        "# plt.savefig(AccVal_acc_S103)"
      ]
    },
    {
      "cell_type": "code",
      "execution_count": null,
      "metadata": {
        "colab": {
          "base_uri": "https://localhost:8080/"
        },
        "id": "hYOQ-iaWSybG",
        "outputId": "f179e8c4-f0c1-4249-ca8a-8fd4795f0e5d"
      },
      "outputs": [
        {
          "name": "stdout",
          "output_type": "stream",
          "text": [
            "69/69 [==============================] - 255s 4s/step\n",
            "              precision    recall  f1-score   support\n",
            "\n",
            "           0       0.32      0.35      0.33      1412\n",
            "           1       0.12      0.14      0.13       545\n",
            "           2       0.09      0.07      0.08       400\n",
            "           3       0.16      0.14      0.15       586\n",
            "           4       0.34      0.32      0.33      1420\n",
            "\n",
            "    accuracy                           0.26      4363\n",
            "   macro avg       0.21      0.21      0.21      4363\n",
            "weighted avg       0.26      0.26      0.26      4363\n",
            "\n"
          ]
        }
      ],
      "source": [
        "from sklearn.metrics import classification_report\n",
        "\n",
        "Y_pred = model.predict(train_generator)\n",
        "y_pred = np.argmax(Y_pred, axis=1)\n",
        "\n",
        "print(classification_report(train_generator.classes, y_pred))"
      ]
    },
    {
      "cell_type": "markdown",
      "metadata": {
        "id": "Wuj9ln7vSz9E"
      },
      "source": [
        "# 2️⃣ Bagian 2, Skenario 2 : Perubahan Jenis Optimizer\n",
        "\n",
        "---\n",
        "\n",
        "Parameter yang tetap dalam Skenario ini adalah sebagai berikut.\n",
        "\n",
        "*Image Size* 150x150\n",
        "*Epoch* **20**\n",
        "*Batch Size* **64**\n",
        "*Learning Rate* **0.0001**\n",
        "*Callback*"
      ]
    },
    {
      "cell_type": "markdown",
      "metadata": {
        "id": "Gs_6gziATpU8"
      },
      "source": [
        "## Optimizer Adam"
      ]
    },
    {
      "cell_type": "code",
      "execution_count": null,
      "metadata": {
        "id": "fTIODk2hTNhw"
      },
      "outputs": [],
      "source": [
        "train_datagen = ImageDataGenerator(\n",
        "    rescale=1./255.,\n",
        "    zoom_range=0.2,\n",
        "    shear_range=0.2,\n",
        "    rotation_range=30,\n",
        "    horizontal_flip=True,\n",
        "    fill_mode='nearest',\n",
        "    validation_split=0.2,\n",
        "    # preprocessing_function=AHE\n",
        ")"
      ]
    },
    {
      "cell_type": "code",
      "execution_count": null,
      "metadata": {
        "id": "K13IrVJFUSdQ"
      },
      "outputs": [],
      "source": [
        "train_generator = train_datagen.flow_from_directory(\n",
        "    data_train,\n",
        "    # target_size=(64,64),\n",
        "    batch_size=64,\n",
        "    class_mode='categorical',\n",
        "    subset='training'\n",
        ")\n",
        "\n",
        "val_generator = train_datagen.flow_from_directory(\n",
        "    data_train,\n",
        "    # target_size=(64,64),\n",
        "    batch_size=64,\n",
        "    class_mode='categorical',\n",
        "    subset='validation'\n",
        ")"
      ]
    },
    {
      "cell_type": "code",
      "execution_count": null,
      "metadata": {
        "id": "q19G3d3LUZIH"
      },
      "outputs": [],
      "source": [
        "model = tf.keras.models.Sequential([\n",
        "    tf.keras.layers.Conv2D(64, (3,3), activation='relu', #input_shape=(64, 64, 3)),\n",
        "    tf.keras.layers.MaxPooling2D(2,2),\n",
        "    tf.keras.layers.Conv2D(128, (3,3), activation='relu'),\n",
        "    tf.keras.layers.MaxPooling2D(2,2),\n",
        "    # Flatten the results to feed into a DNN\n",
        "    tf.keras.layers.Flatten(),\n",
        "    # 512 neuron hidden layer\n",
        "    tf.keras.layers.Dense(512, activation='relu'),\n",
        "    tf.keras.layers.Dense(256, activation='relu'),\n",
        "    tf.keras.layers.Dense(5, activation='softmax')\n",
        "])"
      ]
    },
    {
      "cell_type": "code",
      "execution_count": null,
      "metadata": {
        "id": "GHZl-fDtUbXj"
      },
      "outputs": [],
      "source": [
        "train_generator.classes"
      ]
    },
    {
      "cell_type": "code",
      "execution_count": null,
      "metadata": {
        "id": "83Q7GUmqUbaN"
      },
      "outputs": [],
      "source": [
        "ImageFile.LOAD_TRUNCATED_IMAGES = True"
      ]
    },
    {
      "cell_type": "code",
      "execution_count": null,
      "metadata": {
        "id": "keM64yoOUrHY"
      },
      "outputs": [],
      "source": [
        "model.compile(optimizer=tf.optimizers.Adam(learning_rate=0.0001),\n",
        "              loss='categorical_crossentropy',\n",
        "              metrics = ['accuracy'])"
      ]
    },
    {
      "cell_type": "code",
      "execution_count": null,
      "metadata": {
        "id": "tRupKgvqUv6T"
      },
      "outputs": [],
      "source": [
        "history = model.fit(train_generator,\n",
        "                    validation_data=val_generator,\n",
        "                    epochs=20,\n",
        "                    callbacks=[early_stop],\n",
        "                    verbose=1)"
      ]
    },
    {
      "cell_type": "markdown",
      "metadata": {
        "id": "kD9ApH7HUz1s"
      },
      "source": [
        "### Evaluasi Optimizer Adam"
      ]
    },
    {
      "cell_type": "code",
      "execution_count": null,
      "metadata": {
        "id": "eDN9Lo5oUv9I"
      },
      "outputs": [],
      "source": [
        "plt.plot(r.history['loss'], label='Train Loss')\n",
        "plt.plot(r.history['val_loss'], label='Val Loss')\n",
        "plt.legend()\n",
        "plt.show()\n",
        "plt.savefig(LossVal_loss_S201)\n",
        "\n",
        "plt.plot(r.history['accuracy'], label='Train Accuracy')\n",
        "plt.plot(r.history['val_accuracy'], label='Val Accuracy')\n",
        "plt.legend()\n",
        "plt.show()\n",
        "plt.savefig(AccVal_acc_S201)"
      ]
    },
    {
      "cell_type": "code",
      "execution_count": null,
      "metadata": {
        "id": "DzeLDJgjU6qc"
      },
      "outputs": [],
      "source": [
        "from sklearn.metrics import classification_report\n",
        "\n",
        "Y_pred = model.predict(train_generator)\n",
        "y_pred = np.argmax(Y_pred, axis=1)\n",
        "\n",
        "print(classification_report(train_generator.classes, y_pred))"
      ]
    },
    {
      "cell_type": "markdown",
      "metadata": {
        "id": "Gn-0hGVXVEku"
      },
      "source": [
        "## Optimizer Nadam"
      ]
    },
    {
      "cell_type": "code",
      "execution_count": null,
      "metadata": {
        "id": "NMoemchaU9SD"
      },
      "outputs": [],
      "source": [
        "train_datagen = ImageDataGenerator(\n",
        "    rescale=1./255.,\n",
        "    zoom_range=0.2,\n",
        "    shear_range=0.2,\n",
        "    rotation_range=30,\n",
        "    horizontal_flip=True,\n",
        "    fill_mode='nearest',\n",
        "    validation_split=0.2,\n",
        "    # preprocessing_function=AHE\n",
        ")"
      ]
    },
    {
      "cell_type": "code",
      "execution_count": null,
      "metadata": {
        "colab": {
          "base_uri": "https://localhost:8080/"
        },
        "id": "xxCmRktSVL3Y",
        "outputId": "4b815766-ca57-437f-c8b3-7f61b38f5639"
      },
      "outputs": [
        {
          "output_type": "stream",
          "name": "stdout",
          "text": [
            "Found 4363 images belonging to 5 classes.\n",
            "Found 1089 images belonging to 5 classes.\n"
          ]
        }
      ],
      "source": [
        "train_generator = train_datagen.flow_from_directory(\n",
        "    data_train,\n",
        "    target_size=(150,150),\n",
        "    batch_size=64,\n",
        "    class_mode='categorical',\n",
        "    subset='training'\n",
        ")\n",
        "\n",
        "val_generator = train_datagen.flow_from_directory(\n",
        "    data_train,\n",
        "    target_size=(150,150),\n",
        "    batch_size=64,\n",
        "    class_mode='categorical',\n",
        "    subset='validation'\n",
        ")"
      ]
    },
    {
      "cell_type": "code",
      "execution_count": null,
      "metadata": {
        "id": "uI77vehBVNjG"
      },
      "outputs": [],
      "source": [
        "model = tf.keras.models.Sequential([\n",
        "    tf.keras.layers.Conv2D(64, (3,3), activation='relu', input_shape=(150, 150, 3)),\n",
        "    tf.keras.layers.MaxPooling2D(2,2),\n",
        "    tf.keras.layers.Conv2D(128, (3,3), activation='relu'),\n",
        "    tf.keras.layers.MaxPooling2D(2,2),\n",
        "    # Flatten the results to feed into a DNN\n",
        "    tf.keras.layers.Flatten(),\n",
        "    # 512 neuron hidden layer\n",
        "    tf.keras.layers.Dense(512, activation='relu'),\n",
        "    tf.keras.layers.Dense(256, activation='relu'),\n",
        "    tf.keras.layers.Dense(5, activation='softmax')\n",
        "])"
      ]
    },
    {
      "cell_type": "code",
      "execution_count": null,
      "metadata": {
        "colab": {
          "base_uri": "https://localhost:8080/"
        },
        "id": "z_7XCRLuVPxQ",
        "outputId": "70dc2f81-f3fd-4caf-aa6d-e6c2538c6d80"
      },
      "outputs": [
        {
          "output_type": "execute_result",
          "data": {
            "text/plain": [
              "array([0, 0, 0, ..., 4, 4, 4], dtype=int32)"
            ]
          },
          "metadata": {},
          "execution_count": 10
        }
      ],
      "source": [
        "train_generator.classes"
      ]
    },
    {
      "cell_type": "code",
      "execution_count": null,
      "metadata": {
        "id": "j3Qkyu4LVRgM"
      },
      "outputs": [],
      "source": [
        "ImageFile.LOAD_TRUNCATED_IMAGES = True"
      ]
    },
    {
      "cell_type": "code",
      "execution_count": null,
      "metadata": {
        "id": "n48gpFV2VTaX"
      },
      "outputs": [],
      "source": [
        "model.compile(optimizer=tf.keras.optimizers.experimental.Nadam(learning_rate=0.0001),\n",
        "              loss='categorical_crossentropy',\n",
        "              metrics = ['accuracy'])"
      ]
    },
    {
      "cell_type": "code",
      "execution_count": null,
      "metadata": {
        "colab": {
          "base_uri": "https://localhost:8080/"
        },
        "id": "gJ9uu5XpVVPz",
        "outputId": "af52fcf3-92fb-4bdf-fc37-4f2e63518ef9"
      },
      "outputs": [
        {
          "output_type": "stream",
          "name": "stdout",
          "text": [
            "Epoch 1/20\n",
            "69/69 [==============================] - 1326s 19s/step - loss: 1.2849 - accuracy: 0.4742 - val_loss: 1.0420 - val_accuracy: 0.5702\n",
            "Epoch 2/20\n",
            "69/69 [==============================] - 729s 11s/step - loss: 1.0387 - accuracy: 0.6017 - val_loss: 0.8950 - val_accuracy: 0.6511\n",
            "Epoch 3/20\n",
            "69/69 [==============================] - 728s 11s/step - loss: 0.9190 - accuracy: 0.6392 - val_loss: 0.8265 - val_accuracy: 0.6474\n",
            "Epoch 4/20\n",
            "69/69 [==============================] - 732s 11s/step - loss: 0.8467 - accuracy: 0.6677 - val_loss: 0.8520 - val_accuracy: 0.6740\n",
            "Epoch 5/20\n",
            "69/69 [==============================] - 730s 11s/step - loss: 0.8057 - accuracy: 0.6842 - val_loss: 0.7601 - val_accuracy: 0.7025\n",
            "Epoch 6/20\n",
            "69/69 [==============================] - 728s 11s/step - loss: 0.7617 - accuracy: 0.7025 - val_loss: 0.7266 - val_accuracy: 0.7034\n",
            "Epoch 7/20\n",
            "69/69 [==============================] - 737s 11s/step - loss: 0.7341 - accuracy: 0.7181 - val_loss: 0.7503 - val_accuracy: 0.6896\n",
            "Epoch 8/20\n",
            "69/69 [==============================] - 721s 10s/step - loss: 0.7064 - accuracy: 0.7282 - val_loss: 0.6625 - val_accuracy: 0.7447\n",
            "Epoch 9/20\n",
            "69/69 [==============================] - 720s 10s/step - loss: 0.6818 - accuracy: 0.7330 - val_loss: 0.6766 - val_accuracy: 0.7254\n",
            "Epoch 10/20\n",
            "69/69 [==============================] - 723s 10s/step - loss: 0.6524 - accuracy: 0.7442 - val_loss: 0.6729 - val_accuracy: 0.7153\n",
            "Epoch 11/20\n",
            "69/69 [==============================] - 727s 10s/step - loss: 0.6430 - accuracy: 0.7497 - val_loss: 0.6275 - val_accuracy: 0.7511\n",
            "Epoch 12/20\n",
            "69/69 [==============================] - 734s 11s/step - loss: 0.6164 - accuracy: 0.7662 - val_loss: 0.5917 - val_accuracy: 0.7695\n",
            "Epoch 13/20\n",
            "69/69 [==============================] - 726s 10s/step - loss: 0.5993 - accuracy: 0.7685 - val_loss: 0.6092 - val_accuracy: 0.7603\n",
            "Epoch 14/20\n",
            "69/69 [==============================] - 726s 10s/step - loss: 0.5693 - accuracy: 0.7752 - val_loss: 0.6646 - val_accuracy: 0.7631\n",
            "Epoch 15/20\n",
            "69/69 [==============================] - 724s 10s/step - loss: 0.5701 - accuracy: 0.7813 - val_loss: 0.5831 - val_accuracy: 0.7649\n",
            "Epoch 16/20\n",
            "69/69 [==============================] - 730s 11s/step - loss: 0.5401 - accuracy: 0.7962 - val_loss: 0.5583 - val_accuracy: 0.7769\n",
            "Epoch 17/20\n",
            "69/69 [==============================] - 731s 11s/step - loss: 0.5305 - accuracy: 0.7981 - val_loss: 0.5391 - val_accuracy: 0.7934\n",
            "Epoch 18/20\n",
            "69/69 [==============================] - 728s 10s/step - loss: 0.5096 - accuracy: 0.8061 - val_loss: 0.5765 - val_accuracy: 0.7658\n",
            "Epoch 19/20\n",
            "69/69 [==============================] - 738s 11s/step - loss: 0.5061 - accuracy: 0.8054 - val_loss: 0.5256 - val_accuracy: 0.7879\n",
            "Epoch 20/20\n",
            "69/69 [==============================] - 726s 10s/step - loss: 0.4864 - accuracy: 0.8095 - val_loss: 0.5288 - val_accuracy: 0.7796\n"
          ]
        }
      ],
      "source": [
        "history = model.fit(train_generator,\n",
        "                    validation_data=val_generator,\n",
        "                    epochs=20,\n",
        "                    callbacks=[early_stop],\n",
        "                    verbose=1)"
      ]
    },
    {
      "cell_type": "markdown",
      "metadata": {
        "id": "ggi_gXNIVq3F"
      },
      "source": [
        "### Evaluasi Nadam"
      ]
    },
    {
      "cell_type": "code",
      "execution_count": null,
      "metadata": {
        "id": "jy3gIh_dVsaz",
        "colab": {
          "base_uri": "https://localhost:8080/",
          "height": 843
        },
        "outputId": "81e32148-dfbf-4d9b-dc86-caad0678f20a"
      },
      "outputs": [
        {
          "output_type": "display_data",
          "data": {
            "text/plain": [
              "<Figure size 640x480 with 1 Axes>"
            ],
            "image/png": "[encoded data removed]"
          },
          "metadata": {}
        },
        {
          "output_type": "display_data",
          "data": {
            "text/plain": [
              "<Figure size 640x480 with 1 Axes>"
            ],
            "image/png": "[encoded data removed]"
          },
          "metadata": {}
        }
      ],
      "source": [
        "plt.plot(history.history['loss'], label='Train Loss')\n",
        "plt.plot(history.history['val_loss'], label='Val Loss')\n",
        "plt.legend()\n",
        "plt.show()\n",
        "# plt.savefig(LossVal_loss_S202)\n",
        "\n",
        "plt.plot(history.history['accuracy'], label='Train Accuracy')\n",
        "plt.plot(history.history['val_accuracy'], label='Val Accuracy')\n",
        "plt.legend()\n",
        "plt.show()\n",
        "# plt.savefig(AccVal_acc_S202)"
      ]
    },
    {
      "cell_type": "code",
      "execution_count": null,
      "metadata": {
        "id": "VsVhtj2PVxYt",
        "colab": {
          "base_uri": "https://localhost:8080/"
        },
        "outputId": "4edc64ac-8046-4600-eef0-0292796ee517"
      },
      "outputs": [
        {
          "output_type": "stream",
          "name": "stdout",
          "text": [
            "69/69 [==============================] - 255s 4s/step\n",
            "              precision    recall  f1-score   support\n",
            "\n",
            "           0       0.33      0.37      0.35      1412\n",
            "           1       0.12      0.15      0.13       545\n",
            "           2       0.10      0.10      0.10       400\n",
            "           3       0.14      0.08      0.10       586\n",
            "           4       0.34      0.32      0.33      1420\n",
            "\n",
            "    accuracy                           0.26      4363\n",
            "   macro avg       0.21      0.21      0.20      4363\n",
            "weighted avg       0.26      0.26      0.26      4363\n",
            "\n"
          ]
        }
      ],
      "source": [
        "from sklearn.metrics import classification_report\n",
        "\n",
        "Y_pred = model.predict(train_generator)\n",
        "y_pred = np.argmax(Y_pred, axis=1)\n",
        "\n",
        "print(classification_report(train_generator.classes, y_pred))"
      ]
    },
    {
      "cell_type": "markdown",
      "metadata": {
        "id": "gMC_hHvAV0lZ"
      },
      "source": [
        "## Optimizer RMSProp"
      ]
    },
    {
      "cell_type": "code",
      "execution_count": 11,
      "metadata": {
        "id": "gYi7dI3fV3vj"
      },
      "outputs": [],
      "source": [
        "train_datagen = ImageDataGenerator(\n",
        "    rescale=1./255.,\n",
        "    zoom_range=0.2,\n",
        "    shear_range=0.2,\n",
        "    rotation_range=30,\n",
        "    horizontal_flip=True,\n",
        "    fill_mode='nearest',\n",
        "    validation_split=0.2,\n",
        "    # preprocessing_function=AHE\n",
        ")"
      ]
    },
    {
      "cell_type": "code",
      "execution_count": 12,
      "metadata": {
        "id": "gQvLuMfCWPfT",
        "colab": {
          "base_uri": "https://localhost:8080/"
        },
        "outputId": "e725688f-fac5-4268-ae75-4af0e9044961"
      },
      "outputs": [
        {
          "output_type": "stream",
          "name": "stdout",
          "text": [
            "Found 4363 images belonging to 5 classes.\n",
            "Found 1089 images belonging to 5 classes.\n"
          ]
        }
      ],
      "source": [
        "train_generator = train_datagen.flow_from_directory(\n",
        "    data_train,\n",
        "    target_size=(150,150),\n",
        "    batch_size=64,\n",
        "    class_mode='categorical',\n",
        "    subset='training'\n",
        ")\n",
        "\n",
        "val_generator = train_datagen.flow_from_directory(\n",
        "    data_train,\n",
        "    target_size=(150,150),\n",
        "    batch_size=64,\n",
        "    class_mode='categorical',\n",
        "    subset='validation'\n",
        ")"
      ]
    },
    {
      "cell_type": "code",
      "execution_count": 13,
      "metadata": {
        "id": "jwGEDR2HWPm6"
      },
      "outputs": [],
      "source": [
        "model = tf.keras.models.Sequential([\n",
        "    tf.keras.layers.Conv2D(64, (3,3), activation='relu', input_shape=(150, 150, 3)),\n",
        "    tf.keras.layers.MaxPooling2D(2,2),\n",
        "    tf.keras.layers.Conv2D(128, (3,3), activation='relu'),\n",
        "    tf.keras.layers.MaxPooling2D(2,2),\n",
        "    # Flatten the results to feed into a DNN\n",
        "    tf.keras.layers.Flatten(),\n",
        "    # 512 neuron hidden layer\n",
        "    tf.keras.layers.Dense(512, activation='relu'),\n",
        "    tf.keras.layers.Dense(256, activation='relu'),\n",
        "    tf.keras.layers.Dense(5, activation='softmax')\n",
        "])"
      ]
    },
    {
      "cell_type": "code",
      "execution_count": 14,
      "metadata": {
        "id": "N69gB4dDWPpz",
        "colab": {
          "base_uri": "https://localhost:8080/"
        },
        "outputId": "8a6515d6-db60-4b51-aeb6-ae13b8430c6d"
      },
      "outputs": [
        {
          "output_type": "execute_result",
          "data": {
            "text/plain": [
              "array([0, 0, 0, ..., 4, 4, 4], dtype=int32)"
            ]
          },
          "metadata": {},
          "execution_count": 14
        }
      ],
      "source": [
        "train_generator.classes"
      ]
    },
    {
      "cell_type": "code",
      "execution_count": 15,
      "metadata": {
        "id": "qSJvtitwWY4n"
      },
      "outputs": [],
      "source": [
        "ImageFile.LOAD_TRUNCATED_IMAGES = True"
      ]
    },
    {
      "cell_type": "code",
      "execution_count": 16,
      "metadata": {
        "id": "hOCJio6CWat0"
      },
      "outputs": [],
      "source": [
        "model.compile(optimizer=tf.keras.optimizers.experimental.RMSprop(learning_rate=0.0001),\n",
        "              loss='categorical_crossentropy',\n",
        "              metrics = ['accuracy'])"
      ]
    },
    {
      "cell_type": "code",
      "execution_count": 17,
      "metadata": {
        "id": "Ee7KpY6cWhqT",
        "colab": {
          "base_uri": "https://localhost:8080/"
        },
        "outputId": "26eda556-f97b-475a-a224-6879ff312cb0"
      },
      "outputs": [
        {
          "output_type": "stream",
          "name": "stdout",
          "text": [
            "Epoch 1/20\n",
            "69/69 [==============================] - 1517s 22s/step - loss: 1.3924 - accuracy: 0.4034 - val_loss: 1.2224 - val_accuracy: 0.4628\n",
            "Epoch 2/20\n",
            "69/69 [==============================] - 708s 10s/step - loss: 1.1894 - accuracy: 0.5129 - val_loss: 1.0380 - val_accuracy: 0.6033\n",
            "Epoch 3/20\n",
            "69/69 [==============================] - 707s 10s/step - loss: 1.0959 - accuracy: 0.5739 - val_loss: 0.9743 - val_accuracy: 0.6437\n",
            "Epoch 4/20\n",
            "69/69 [==============================] - 703s 10s/step - loss: 1.0250 - accuracy: 0.6055 - val_loss: 1.1112 - val_accuracy: 0.5482\n",
            "Epoch 5/20\n",
            "69/69 [==============================] - 711s 10s/step - loss: 0.9735 - accuracy: 0.6241 - val_loss: 0.9054 - val_accuracy: 0.6373\n",
            "Epoch 6/20\n",
            "69/69 [==============================] - 692s 10s/step - loss: 0.9218 - accuracy: 0.6477 - val_loss: 0.9996 - val_accuracy: 0.6097\n",
            "Epoch 7/20\n",
            "69/69 [==============================] - 712s 10s/step - loss: 0.8910 - accuracy: 0.6553 - val_loss: 0.7930 - val_accuracy: 0.6878\n",
            "Epoch 8/20\n",
            "69/69 [==============================] - 716s 10s/step - loss: 0.8623 - accuracy: 0.6663 - val_loss: 0.8198 - val_accuracy: 0.6648\n",
            "Epoch 9/20\n",
            "69/69 [==============================] - 709s 10s/step - loss: 0.8273 - accuracy: 0.6759 - val_loss: 0.9197 - val_accuracy: 0.6538\n",
            "Epoch 10/20\n",
            "69/69 [==============================] - 689s 10s/step - loss: 0.8034 - accuracy: 0.6839 - val_loss: 0.7547 - val_accuracy: 0.7144\n",
            "Epoch 11/20\n",
            "69/69 [==============================] - 721s 10s/step - loss: 0.7897 - accuracy: 0.6881 - val_loss: 0.8944 - val_accuracy: 0.6566\n",
            "Epoch 12/20\n",
            "69/69 [==============================] - 705s 10s/step - loss: 0.7571 - accuracy: 0.7073 - val_loss: 0.6957 - val_accuracy: 0.7208\n",
            "Epoch 13/20\n",
            "69/69 [==============================] - 708s 10s/step - loss: 0.7547 - accuracy: 0.7036 - val_loss: 0.6879 - val_accuracy: 0.7153\n",
            "Epoch 14/20\n",
            "69/69 [==============================] - 732s 11s/step - loss: 0.7358 - accuracy: 0.7146 - val_loss: 0.7568 - val_accuracy: 0.6850\n",
            "Epoch 15/20\n",
            "69/69 [==============================] - 723s 10s/step - loss: 0.7202 - accuracy: 0.7208 - val_loss: 0.6885 - val_accuracy: 0.7117\n",
            "Epoch 16/20\n",
            "69/69 [==============================] - 712s 10s/step - loss: 0.6990 - accuracy: 0.7234 - val_loss: 0.6709 - val_accuracy: 0.7392\n",
            "Epoch 17/20\n",
            "69/69 [==============================] - 712s 10s/step - loss: 0.6906 - accuracy: 0.7321 - val_loss: 0.6844 - val_accuracy: 0.7236\n",
            "Epoch 18/20\n",
            "69/69 [==============================] - 706s 10s/step - loss: 0.6716 - accuracy: 0.7401 - val_loss: 0.6455 - val_accuracy: 0.7291\n",
            "Epoch 19/20\n",
            "69/69 [==============================] - 715s 10s/step - loss: 0.6553 - accuracy: 0.7392 - val_loss: 0.7112 - val_accuracy: 0.7300\n",
            "Epoch 20/20\n",
            "69/69 [==============================] - 709s 10s/step - loss: 0.6513 - accuracy: 0.7527 - val_loss: 0.6021 - val_accuracy: 0.7594\n"
          ]
        }
      ],
      "source": [
        "history = model.fit(train_generator,\n",
        "                    validation_data=val_generator,\n",
        "                    epochs=20,\n",
        "                    callbacks=[early_stop],\n",
        "                    verbose=1)"
      ]
    },
    {
      "cell_type": "markdown",
      "metadata": {
        "id": "k9dOPwTXWkJt"
      },
      "source": [
        "### Evaluasi RMSProp"
      ]
    },
    {
      "cell_type": "code",
      "execution_count": 16,
      "metadata": {
        "id": "djDyZKPlWjx4",
        "colab": {
          "base_uri": "https://localhost:8080/",
          "height": 843
        },
        "outputId": "5af803c9-e266-4c66-929a-4e8ac8abe96e"
      },
      "outputs": [
        {
          "output_type": "display_data",
          "data": {
            "text/plain": [
              "<Figure size 640x480 with 1 Axes>"
            ],
            "image/png": "[encoded data removed]"
          },
          "metadata": {}
        },
        {
          "output_type": "display_data",
          "data": {
            "text/plain": [
              "<Figure size 640x480 with 1 Axes>"
            ],
            "image/png": "[encoded data removed]"
          },
          "metadata": {}
        }
      ],
      "source": [
        "plt.plot(history.history['loss'], label='Train Loss')\n",
        "plt.plot(history.history['val_loss'], label='Val Loss')\n",
        "plt.legend()\n",
        "plt.show()\n",
        "# plt.savefig(LossVal_loss_S203)\n",
        "\n",
        "plt.plot(history.history['accuracy'], label='Train Accuracy')\n",
        "plt.plot(history.history['val_accuracy'], label='Val Accuracy')\n",
        "plt.legend()\n",
        "plt.show()\n",
        "# plt.savefig(AccVal_acc_S203)"
      ]
    },
    {
      "cell_type": "code",
      "execution_count": 17,
      "metadata": {
        "id": "W7qs48qQWrcp",
        "colab": {
          "base_uri": "https://localhost:8080/"
        },
        "outputId": "9a17a73f-a43f-4254-9222-d72439690fb1"
      },
      "outputs": [
        {
          "output_type": "stream",
          "name": "stdout",
          "text": [
            "69/69 [==============================] - 117s 2s/step\n",
            "              precision    recall  f1-score   support\n",
            "\n",
            "           0       0.31      0.38      0.34      1412\n",
            "           1       0.12      0.11      0.12       545\n",
            "           2       0.09      0.14      0.11       400\n",
            "           3       0.14      0.06      0.08       586\n",
            "           4       0.34      0.31      0.32      1420\n",
            "\n",
            "    accuracy                           0.26      4363\n",
            "   macro avg       0.20      0.20      0.19      4363\n",
            "weighted avg       0.25      0.26      0.25      4363\n",
            "\n"
          ]
        }
      ],
      "source": [
        "from sklearn.metrics import classification_report\n",
        "\n",
        "Y_pred = model.predict(train_generator)\n",
        "y_pred = np.argmax(Y_pred, axis=1)\n",
        "\n",
        "print(classification_report(train_generator.classes, y_pred))"
      ]
    },
    {
      "cell_type": "markdown",
      "metadata": {
        "id": "-YYyXIlIW2aE"
      },
      "source": [
        "# 3️⃣ Bagian 3, Skenario 3 : Perubahan Nilai Learning Rate\n",
        "---\n",
        "Parameter yang tetap dalam Skenario ini adalah sebagai berikut.\n",
        "\n",
        "*Image Size* 150x150\n",
        "*Optimizer* Adam\n",
        "*Epoch* **20**\n",
        "*Batch Size* **64**\n",
        "*Callback*\n"
      ]
    },
    {
      "cell_type": "markdown",
      "metadata": {
        "id": "_YNbjnH4XEGq"
      },
      "source": [
        "## Learning Rate 0.1"
      ]
    },
    {
      "cell_type": "code",
      "execution_count": null,
      "metadata": {
        "id": "sB6mL_b-XypX"
      },
      "outputs": [],
      "source": [
        "train_datagen = ImageDataGenerator(\n",
        "    rescale=1./255.,\n",
        "    zoom_range=0.2,\n",
        "    shear_range=0.2,\n",
        "    rotation_range=30,\n",
        "    horizontal_flip=True,\n",
        "    fill_mode='nearest',\n",
        "    validation_split=0.2,\n",
        "    # preprocessing_function=AHE\n",
        ")"
      ]
    },
    {
      "cell_type": "code",
      "execution_count": null,
      "metadata": {
        "id": "CT515xkaYBCn"
      },
      "outputs": [],
      "source": [
        "train_generator = train_datagen.flow_from_directory(\n",
        "    data_train,\n",
        "    # target_size=(64,64),\n",
        "    batch_size=64,\n",
        "    class_mode='categorical',\n",
        "    subset='training'\n",
        ")\n",
        "\n",
        "val_generator = train_datagen.flow_from_directory(\n",
        "    data_train,\n",
        "    # target_size=(64,64),\n",
        "    batch_size=64,\n",
        "    class_mode='categorical',\n",
        "    subset='validation'\n",
        ")"
      ]
    },
    {
      "cell_type": "code",
      "execution_count": null,
      "metadata": {
        "id": "2Vee5ocyYir-"
      },
      "outputs": [],
      "source": [
        "train_generator.classes"
      ]
    },
    {
      "cell_type": "code",
      "execution_count": null,
      "metadata": {
        "id": "FkTuoFGeYkwJ"
      },
      "outputs": [],
      "source": [
        "ImageFile.LOAD_TRUNCATED_IMAGES = True"
      ]
    },
    {
      "cell_type": "code",
      "execution_count": null,
      "metadata": {
        "id": "PFF9ANM7Yny4"
      },
      "outputs": [],
      "source": [
        "model.compile(optimizer=tf.keras.optimizers.#rmsprop(learning_rate=0.1),\n",
        "              loss='categorical_crossentropy',\n",
        "              metrics = ['accuracy'])"
      ]
    },
    {
      "cell_type": "code",
      "execution_count": null,
      "metadata": {
        "id": "2nndEs6HYohh"
      },
      "outputs": [],
      "source": [
        "history = model.fit(train_generator,\n",
        "                    validation_data=val_generator,\n",
        "                    epochs=20,\n",
        "                    callbacks=[early_stop],\n",
        "                    verbose=1)"
      ]
    },
    {
      "cell_type": "markdown",
      "metadata": {
        "id": "CDXqDcdXXoMJ"
      },
      "source": [
        "### Evaluasi Learning Rate 0.1"
      ]
    },
    {
      "cell_type": "code",
      "execution_count": null,
      "metadata": {
        "id": "jSn8OD6mXhIZ"
      },
      "outputs": [],
      "source": [
        "plt.plot(r.history['loss'], label='Train Loss')\n",
        "plt.plot(r.history['val_loss'], label='Val Loss')\n",
        "plt.legend()\n",
        "plt.show()\n",
        "plt.savefig(LossVal_loss_S301)\n",
        "\n",
        "plt.plot(r.history['accuracy'], label='Train Accuracy')\n",
        "plt.plot(r.history['val_accuracy'], label='Val Accuracy')\n",
        "plt.legend()\n",
        "plt.show()\n",
        "plt.savefig(AccVal_acc_S301)"
      ]
    },
    {
      "cell_type": "code",
      "execution_count": null,
      "metadata": {
        "id": "T2pZpY6gY4HJ"
      },
      "outputs": [],
      "source": [
        "from sklearn.metrics import classification_report\n",
        "\n",
        "Y_pred = model.predict(train_generator)\n",
        "y_pred = np.argmax(Y_pred, axis=1)\n",
        "\n",
        "print(classification_report(train_generator.classes, y_pred))"
      ]
    },
    {
      "cell_type": "markdown",
      "metadata": {
        "id": "GJjZt8Z3XdSZ"
      },
      "source": [
        "## Learning Rate 0.001"
      ]
    },
    {
      "cell_type": "code",
      "execution_count": 5,
      "metadata": {
        "id": "FBniDV-eXzO2"
      },
      "outputs": [],
      "source": [
        "train_datagen = ImageDataGenerator(\n",
        "    rescale=1./255.,\n",
        "    zoom_range=0.2,\n",
        "    shear_range=0.2,\n",
        "    rotation_range=30,\n",
        "    horizontal_flip=True,\n",
        "    fill_mode='nearest',\n",
        "    validation_split=0.2,\n",
        "    # preprocessing_function=AHE\n",
        ")"
      ]
    },
    {
      "cell_type": "code",
      "execution_count": 6,
      "metadata": {
        "id": "STA11Qx9Y6mx",
        "colab": {
          "base_uri": "https://localhost:8080/"
        },
        "outputId": "7ef0a88b-5ec6-4a09-e92c-27173156bb55"
      },
      "outputs": [
        {
          "output_type": "stream",
          "name": "stdout",
          "text": [
            "Found 4363 images belonging to 5 classes.\n",
            "Found 1089 images belonging to 5 classes.\n"
          ]
        }
      ],
      "source": [
        "train_generator = train_datagen.flow_from_directory(\n",
        "    data_train,\n",
        "    target_size=(150,150),\n",
        "    batch_size=64,\n",
        "    class_mode='categorical',\n",
        "    subset='training'\n",
        ")\n",
        "\n",
        "val_generator = train_datagen.flow_from_directory(\n",
        "    data_train,\n",
        "    target_size=(150,150),\n",
        "    batch_size=64,\n",
        "    class_mode='categorical',\n",
        "    subset='validation'\n",
        ")"
      ]
    },
    {
      "cell_type": "code",
      "source": [
        "model = tf.keras.models.Sequential([\n",
        "    tf.keras.layers.Conv2D(64, (3,3), activation='relu', input_shape=(150, 150, 3)),\n",
        "    tf.keras.layers.MaxPooling2D(2,2),\n",
        "    tf.keras.layers.Conv2D(128, (3,3), activation='relu'),\n",
        "    tf.keras.layers.MaxPooling2D(2,2),\n",
        "    # Flatten the results to feed into a DNN\n",
        "    tf.keras.layers.Flatten(),\n",
        "    # 512 neuron hidden layer\n",
        "    tf.keras.layers.Dense(512, activation='relu'),\n",
        "    tf.keras.layers.Dense(256, activation='relu'),\n",
        "    tf.keras.layers.Dense(5, activation='softmax')\n",
        "])"
      ],
      "metadata": {
        "id": "eePVvjKHgEIc"
      },
      "execution_count": null,
      "outputs": []
    },
    {
      "cell_type": "code",
      "execution_count": 7,
      "metadata": {
        "id": "vU0lxJieY6tr",
        "colab": {
          "base_uri": "https://localhost:8080/"
        },
        "outputId": "7d08d4ce-7813-4a62-f895-0e6e6dd3f1ff"
      },
      "outputs": [
        {
          "output_type": "execute_result",
          "data": {
            "text/plain": [
              "array([0, 0, 0, ..., 4, 4, 4], dtype=int32)"
            ]
          },
          "metadata": {},
          "execution_count": 7
        }
      ],
      "source": [
        "train_generator.classes"
      ]
    },
    {
      "cell_type": "code",
      "execution_count": 8,
      "metadata": {
        "id": "vbOy-9EWY6zr"
      },
      "outputs": [],
      "source": [
        "ImageFile.LOAD_TRUNCATED_IMAGES = True"
      ]
    },
    {
      "cell_type": "code",
      "execution_count": 10,
      "metadata": {
        "id": "WLsQmFUVY69D",
        "colab": {
          "base_uri": "https://localhost:8080/",
          "height": 217
        },
        "outputId": "90595125-1644-49b1-ff72-41e0be68f78e"
      },
      "outputs": [
        {
          "output_type": "error",
          "ename": "NameError",
          "evalue": "name 'model' is not defined",
          "traceback": [
            "\u001b[0;31m---------------------------------------------------------------------------\u001b[0m",
            "\u001b[0;31mNameError\u001b[0m                                 Traceback (most recent call last)",
            "\u001b[0;32m<ipython-input-10-28ec2b40953d>\u001b[0m in \u001b[0;36m<cell line: 1>\u001b[0;34m()\u001b[0m\n\u001b[0;32m----> 1\u001b[0;31m model.compile(optimizer=tf.keras.optimizers.Adam(learning_rate=0.1),\n\u001b[0m\u001b[1;32m      2\u001b[0m               \u001b[0mloss\u001b[0m\u001b[0;34m=\u001b[0m\u001b[0;34m'categorical_crossentropy'\u001b[0m\u001b[0;34m,\u001b[0m\u001b[0;34m\u001b[0m\u001b[0;34m\u001b[0m\u001b[0m\n\u001b[1;32m      3\u001b[0m               metrics = ['accuracy'])\n",
            "\u001b[0;31mNameError\u001b[0m: name 'model' is not defined"
          ]
        }
      ],
      "source": [
        "model.compile(optimizer=tf.keras.optimizers.Adam(learning_rate=0.1),\n",
        "              loss='categorical_crossentropy',\n",
        "              metrics = ['accuracy'])"
      ]
    },
    {
      "cell_type": "code",
      "execution_count": null,
      "metadata": {
        "id": "5fYmSagFY7B3"
      },
      "outputs": [],
      "source": [
        "history = model.fit(train_generator,\n",
        "                    validation_data=val_generator,\n",
        "                    epochs=20,\n",
        "                    callbacks=[early_stop],\n",
        "                    verbose=1)"
      ]
    },
    {
      "cell_type": "markdown",
      "metadata": {
        "id": "rqyudFSmXjZZ"
      },
      "source": [
        "### Evaluasi Learning Rate 0.001"
      ]
    },
    {
      "cell_type": "code",
      "execution_count": null,
      "metadata": {
        "id": "ge1v_bwLXiLd"
      },
      "outputs": [],
      "source": [
        "plt.plot(history.history['loss'], label='Train Loss')\n",
        "plt.plot(history.history['val_loss'], label='Val Loss')\n",
        "plt.legend()\n",
        "plt.show()\n",
        "# plt.savefig(LossVal_loss_S302)\n",
        "\n",
        "plt.plot(history.history['accuracy'], label='Train Accuracy')\n",
        "plt.plot(history.history['val_accuracy'], label='Val Accuracy')\n",
        "plt.legend()\n",
        "plt.show()\n",
        "# plt.savefig(AccVal_acc_S302)"
      ]
    },
    {
      "cell_type": "code",
      "execution_count": null,
      "metadata": {
        "id": "5Rx2m1QzY4mH"
      },
      "outputs": [],
      "source": [
        "from sklearn.metrics import classification_report\n",
        "\n",
        "Y_pred = model.predict(train_generator)\n",
        "y_pred = np.argmax(Y_pred, axis=1)\n",
        "\n",
        "print(classification_report(train_generator.classes, y_pred))"
      ]
    },
    {
      "cell_type": "markdown",
      "metadata": {
        "id": "F7FdhckKXdV0"
      },
      "source": [
        "## Learning Rate 0.0001"
      ]
    },
    {
      "cell_type": "code",
      "execution_count": null,
      "metadata": {
        "id": "q-xrAwBTY5jo"
      },
      "outputs": [],
      "source": [
        "train_datagen = ImageDataGenerator(\n",
        "    rescale=1./255.,\n",
        "    zoom_range=0.2,\n",
        "    shear_range=0.2,\n",
        "    rotation_range=30,\n",
        "    horizontal_flip=True,\n",
        "    fill_mode='nearest',\n",
        "    validation_split=0.2,\n",
        "    # preprocessing_function=AHE\n",
        ")"
      ]
    },
    {
      "cell_type": "code",
      "execution_count": null,
      "metadata": {
        "id": "xorfuP-aY5nd"
      },
      "outputs": [],
      "source": [
        "train_generator = train_datagen.flow_from_directory(\n",
        "    data_train,\n",
        "    # target_size=(64,64),\n",
        "    batch_size=64,\n",
        "    class_mode='categorical',\n",
        "    subset='training'\n",
        ")\n",
        "\n",
        "val_generator = train_datagen.flow_from_directory(\n",
        "    data_train,\n",
        "    # target_size=(64,64),\n",
        "    batch_size=64,\n",
        "    class_mode='categorical',\n",
        "    subset='validation'\n",
        ")"
      ]
    },
    {
      "cell_type": "code",
      "execution_count": null,
      "metadata": {
        "id": "EB7J93KFY5t-"
      },
      "outputs": [],
      "source": [
        "train_generator.classes"
      ]
    },
    {
      "cell_type": "code",
      "execution_count": null,
      "metadata": {
        "id": "RDNxKmzbY5z_"
      },
      "outputs": [],
      "source": [
        "ImageFile.LOAD_TRUNCATED_IMAGES = True"
      ]
    },
    {
      "cell_type": "code",
      "execution_count": null,
      "metadata": {
        "id": "UBUKgW09Y576"
      },
      "outputs": [],
      "source": [
        "model.compile(optimizer=tf.keras.optimizers.#rmsprop(learning_rate=0.0001),\n",
        "              loss='categorical_crossentropy',\n",
        "              metrics = ['accuracy'])"
      ]
    },
    {
      "cell_type": "code",
      "execution_count": null,
      "metadata": {
        "id": "jipj5i99Y6Bj"
      },
      "outputs": [],
      "source": [
        "history = model.fit(train_generator,\n",
        "                    validation_data=val_generator,\n",
        "                    epochs=20,\n",
        "                    callbacks=[early_stop],\n",
        "                    verbose=1)"
      ]
    },
    {
      "cell_type": "markdown",
      "metadata": {
        "id": "b2QqBTHRXvDR"
      },
      "source": [
        "### Evaluasi Learning Rate 0.0001"
      ]
    },
    {
      "cell_type": "code",
      "execution_count": null,
      "metadata": {
        "id": "CbzTdF-rW1CT"
      },
      "outputs": [],
      "source": [
        "plt.plot(r.history['loss'], label='Train Loss')\n",
        "plt.plot(r.history['val_loss'], label='Val Loss')\n",
        "plt.legend()\n",
        "plt.show()\n",
        "plt.savefig(LossVal_loss_S303)\n",
        "\n",
        "plt.plot(r.history['accuracy'], label='Train Accuracy')\n",
        "plt.plot(r.history['val_accuracy'], label='Val Accuracy')\n",
        "plt.legend()\n",
        "plt.show()\n",
        "plt.savefig(AccVal_acc_S303)"
      ]
    },
    {
      "cell_type": "code",
      "execution_count": null,
      "metadata": {
        "id": "wU23orgpY5FU"
      },
      "outputs": [],
      "source": [
        "from sklearn.metrics import classification_report\n",
        "\n",
        "Y_pred = model.predict(train_generator)\n",
        "y_pred = np.argmax(Y_pred, axis=1)\n",
        "\n",
        "print(classification_report(train_generator.classes, y_pred))"
      ]
    },
    {
      "cell_type": "markdown",
      "metadata": {
        "id": "YQuL8zj1Z06t"
      },
      "source": [
        "# 4️⃣ Bagian 4, Skenario 4 : Perubahan Ukuran Batch\n",
        "---\n",
        "Parameter yang tetap dalam Skenario ini adalah sebagai berikut.\n",
        "\n",
        "*Image Size*\n",
        "*Optimizer*\n",
        "*Epoch* **20**\n",
        "*Learning Rate*\n",
        "*Callback*\n",
        "\n"
      ]
    },
    {
      "cell_type": "markdown",
      "metadata": {
        "id": "f8kT4G22aFSU"
      },
      "source": [
        "## Ukuran Batch 32"
      ]
    },
    {
      "cell_type": "code",
      "execution_count": null,
      "metadata": {
        "id": "wD5FL4jPass-"
      },
      "outputs": [],
      "source": [
        "train_datagen = ImageDataGenerator(\n",
        "    rescale=1./255.,\n",
        "    zoom_range=0.2,\n",
        "    shear_range=0.2,\n",
        "    rotation_range=30,\n",
        "    horizontal_flip=True,\n",
        "    fill_mode='nearest',\n",
        "    validation_split=0.2,\n",
        "    # preprocessing_function=AHE\n",
        ")"
      ]
    },
    {
      "cell_type": "code",
      "execution_count": null,
      "metadata": {
        "id": "LqrG1KKcbPj0"
      },
      "outputs": [],
      "source": [
        "train_generator = train_datagen.flow_from_directory(\n",
        "    data_train,\n",
        "    # target_size=(32,32),\n",
        "    batch_size=64,\n",
        "    class_mode='categorical',\n",
        "    subset='training'\n",
        ")\n",
        "\n",
        "val_generator = train_datagen.flow_from_directory(\n",
        "    data_train,\n",
        "    # target_size=(32,32),\n",
        "    batch_size=64,\n",
        "    class_mode='categorical',\n",
        "    subset='validation'\n",
        ")"
      ]
    },
    {
      "cell_type": "code",
      "execution_count": null,
      "metadata": {
        "id": "cKWtgKcIbPpT"
      },
      "outputs": [],
      "source": [
        "train_generator.classes"
      ]
    },
    {
      "cell_type": "code",
      "execution_count": null,
      "metadata": {
        "id": "D3gq89WBbPvD"
      },
      "outputs": [],
      "source": [
        "ImageFile.LOAD_TRUNCATED_IMAGES = True"
      ]
    },
    {
      "cell_type": "code",
      "execution_count": null,
      "metadata": {
        "id": "7soCYeNVbP6u"
      },
      "outputs": [],
      "source": [
        "model.compile(optimizer=tf.keras.optimizers.#rmsprop(learning_rate=0.1),\n",
        "              loss='categorical_crossentropy',\n",
        "              metrics = ['accuracy'])"
      ]
    },
    {
      "cell_type": "code",
      "execution_count": null,
      "metadata": {
        "id": "SOrM-ijhbP_t"
      },
      "outputs": [],
      "source": [
        "history = model.fit(train_generator,\n",
        "                    validation_data=val_generator,\n",
        "                    epochs=20,\n",
        "                    callbacks=[early_stop],\n",
        "                    verbose=1)"
      ]
    },
    {
      "cell_type": "markdown",
      "metadata": {
        "id": "YMAZbZZ9a9u6"
      },
      "source": [
        "### Evaluasi Ukuran Batch 32"
      ]
    },
    {
      "cell_type": "code",
      "execution_count": null,
      "metadata": {
        "id": "JeJBuwkUbAmG"
      },
      "outputs": [],
      "source": [
        "plt.plot(r.history['loss'], label='Train Loss')\n",
        "plt.plot(r.history['val_loss'], label='Val Loss')\n",
        "plt.legend()\n",
        "plt.show()\n",
        "plt.savefig(LossVal_loss_S401)\n",
        "\n",
        "plt.plot(r.history['accuracy'], label='Train Accuracy')\n",
        "plt.plot(r.history['val_accuracy'], label='Val Accuracy')\n",
        "plt.legend()\n",
        "plt.show()\n",
        "plt.savefig(AccVal_acc_S401)"
      ]
    },
    {
      "cell_type": "code",
      "execution_count": null,
      "metadata": {
        "id": "w5DHtSdlbQbc"
      },
      "outputs": [],
      "source": [
        "from sklearn.metrics import classification_report\n",
        "\n",
        "Y_pred = model.predict(train_generator)\n",
        "y_pred = np.argmax(Y_pred, axis=1)\n",
        "\n",
        "print(classification_report(train_generator.classes, y_pred))"
      ]
    },
    {
      "cell_type": "markdown",
      "metadata": {
        "id": "omZBOnmeaFcc"
      },
      "source": [
        "## Ukuran Batch 64"
      ]
    },
    {
      "cell_type": "code",
      "execution_count": null,
      "metadata": {
        "id": "B7moJW7pbFaR"
      },
      "outputs": [],
      "source": [
        "train_datagen = ImageDataGenerator(\n",
        "    rescale=1./255.,\n",
        "    zoom_range=0.2,\n",
        "    shear_range=0.2,\n",
        "    rotation_range=30,\n",
        "    horizontal_flip=True,\n",
        "    fill_mode='nearest',\n",
        "    validation_split=0.2,\n",
        "    # preprocessing_function=AHE\n",
        ")"
      ]
    },
    {
      "cell_type": "code",
      "execution_count": null,
      "metadata": {
        "id": "JpMQ7TVHbQ5B"
      },
      "outputs": [],
      "source": [
        "train_generator = train_datagen.flow_from_directory(\n",
        "    data_train,\n",
        "    # target_size=(64,64),\n",
        "    batch_size=64,\n",
        "    class_mode='categorical',\n",
        "    subset='training'\n",
        ")\n",
        "\n",
        "val_generator = train_datagen.flow_from_directory(\n",
        "    data_train,\n",
        "    # target_size=(64,64),\n",
        "    batch_size=64,\n",
        "    class_mode='categorical',\n",
        "    subset='validation'\n",
        ")"
      ]
    },
    {
      "cell_type": "code",
      "execution_count": null,
      "metadata": {
        "id": "eUkXiLwEbQ71"
      },
      "outputs": [],
      "source": [
        "train_generator.classes"
      ]
    },
    {
      "cell_type": "code",
      "execution_count": null,
      "metadata": {
        "id": "ykoiRQvYbRlt"
      },
      "outputs": [],
      "source": [
        "ImageFile.LOAD_TRUNCATED_IMAGES = True"
      ]
    },
    {
      "cell_type": "code",
      "execution_count": null,
      "metadata": {
        "id": "hB5JbnyMbRzM"
      },
      "outputs": [],
      "source": [
        "model.compile(optimizer=tf.keras.optimizers.#rmsprop(learning_rate=0.1),\n",
        "              loss='categorical_crossentropy',\n",
        "              metrics = ['accuracy'])"
      ]
    },
    {
      "cell_type": "code",
      "execution_count": null,
      "metadata": {
        "id": "CwAe-z7kbR3G"
      },
      "outputs": [],
      "source": [
        "history = model.fit(train_generator,\n",
        "                    validation_data=val_generator,\n",
        "                    epochs=20,\n",
        "                    callbacks=[early_stop],\n",
        "                    verbose=1)"
      ]
    },
    {
      "cell_type": "markdown",
      "metadata": {
        "id": "Cr_2hy5EbFka"
      },
      "source": [
        "### Evaluasi Ukuran Batch 64"
      ]
    },
    {
      "cell_type": "code",
      "execution_count": null,
      "metadata": {
        "id": "Qxc5oyRIbF17"
      },
      "outputs": [],
      "source": [
        "plt.plot(r.history['loss'], label='Train Loss')\n",
        "plt.plot(r.history['val_loss'], label='Val Loss')\n",
        "plt.legend()\n",
        "plt.show()\n",
        "plt.savefig(LossVal_loss_S402)\n",
        "\n",
        "plt.plot(r.history['accuracy'], label='Train Accuracy')\n",
        "plt.plot(r.history['val_accuracy'], label='Val Accuracy')\n",
        "plt.legend()\n",
        "plt.show()\n",
        "plt.savefig(AccVal_acc_S402)"
      ]
    },
    {
      "cell_type": "code",
      "execution_count": null,
      "metadata": {
        "id": "h7vX1NI2bSWP"
      },
      "outputs": [],
      "source": [
        "from sklearn.metrics import classification_report\n",
        "\n",
        "Y_pred = model.predict(train_generator)\n",
        "y_pred = np.argmax(Y_pred, axis=1)\n",
        "\n",
        "print(classification_report(train_generator.classes, y_pred))"
      ]
    },
    {
      "cell_type": "markdown",
      "metadata": {
        "id": "mnFfkr_waFpw"
      },
      "source": [
        "## Ukuran Batch 128"
      ]
    },
    {
      "cell_type": "code",
      "execution_count": null,
      "metadata": {
        "id": "l2Dm6lVUbLIN"
      },
      "outputs": [],
      "source": [
        "train_datagen = ImageDataGenerator(\n",
        "    rescale=1./255.,\n",
        "    zoom_range=0.2,\n",
        "    shear_range=0.2,\n",
        "    rotation_range=30,\n",
        "    horizontal_flip=True,\n",
        "    fill_mode='nearest',\n",
        "    validation_split=0.2,\n",
        "    # preprocessing_function=AHE\n",
        ")"
      ]
    },
    {
      "cell_type": "code",
      "execution_count": null,
      "metadata": {
        "id": "0mSC1P0wbSxF"
      },
      "outputs": [],
      "source": [
        "train_generator = train_datagen.flow_from_directory(\n",
        "    data_train,\n",
        "    # target_size=(128,128),\n",
        "    batch_size=64,\n",
        "    class_mode='categorical',\n",
        "    subset='training'\n",
        ")\n",
        "\n",
        "val_generator = train_datagen.flow_from_directory(\n",
        "    data_train,\n",
        "    # target_size=(128,128),\n",
        "    batch_size=64,\n",
        "    class_mode='categorical',\n",
        "    subset='validation'\n",
        ")"
      ]
    },
    {
      "cell_type": "code",
      "execution_count": null,
      "metadata": {
        "id": "_W5gV5OZbSz-"
      },
      "outputs": [],
      "source": [
        "train_generator.classes"
      ]
    },
    {
      "cell_type": "code",
      "execution_count": null,
      "metadata": {
        "id": "3VVsLmjobS9E"
      },
      "outputs": [],
      "source": [
        "ImageFile.LOAD_TRUNCATED_IMAGES = True"
      ]
    },
    {
      "cell_type": "code",
      "execution_count": null,
      "metadata": {
        "id": "6uPPisY2bTWC"
      },
      "outputs": [],
      "source": [
        "model.compile(optimizer=tf.keras.optimizers.#rmsprop(learning_rate=0.1),\n",
        "              loss='categorical_crossentropy',\n",
        "              metrics = ['accuracy'])"
      ]
    },
    {
      "cell_type": "code",
      "execution_count": null,
      "metadata": {
        "id": "-9Hzn7qobTc_"
      },
      "outputs": [],
      "source": [
        "history = model.fit(train_generator,\n",
        "                    validation_data=val_generator,\n",
        "                    epochs=20,\n",
        "                    callbacks=[early_stop],\n",
        "                    verbose=1)"
      ]
    },
    {
      "cell_type": "markdown",
      "metadata": {
        "id": "J_JSA7zfbLrr"
      },
      "source": [
        "### Evaluasi Ukuran Batch 128"
      ]
    },
    {
      "cell_type": "code",
      "execution_count": null,
      "metadata": {
        "id": "MZpd8jokbOeL"
      },
      "outputs": [],
      "source": [
        "plt.plot(r.history['loss'], label='Train Loss')\n",
        "plt.plot(r.history['val_loss'], label='Val Loss')\n",
        "plt.legend()\n",
        "plt.show()\n",
        "plt.savefig(LossVal_loss_S403)\n",
        "\n",
        "plt.plot(r.history['accuracy'], label='Train Accuracy')\n",
        "plt.plot(r.history['val_accuracy'], label='Val Accuracy')\n",
        "plt.legend()\n",
        "plt.show()\n",
        "plt.savefig(AccVal_acc_S403)"
      ]
    },
    {
      "cell_type": "code",
      "execution_count": null,
      "metadata": {
        "id": "g9XVzGx_bUR6"
      },
      "outputs": [],
      "source": [
        "from sklearn.metrics import classification_report\n",
        "\n",
        "Y_pred = model.predict(train_generator)\n",
        "y_pred = np.argmax(Y_pred, axis=1)\n",
        "\n",
        "print(classification_report(train_generator.classes, y_pred))"
      ]
    }
  ],
  "metadata": {
    "colab": {
      "collapsed_sections": [
        "41AG90aYKBoy",
        "LGri6i9EKQFx",
        "Gs_6gziATpU8",
        "-YYyXIlIW2aE",
        "_YNbjnH4XEGq",
        "YQuL8zj1Z06t",
        "f8kT4G22aFSU",
        "omZBOnmeaFcc",
        "mnFfkr_waFpw"
      ],
      "toc_visible": true,
      "provenance": [],
      "authorship_tag": "ABX9TyN9dYSTT7+3CQNpp+9qwQZf",
      "include_colab_link": true
    },
    "kernelspec": {
      "display_name": "Python 3",
      "name": "python3"
    },
    "language_info": {
      "name": "python"
    }
  },
  "nbformat": 4,
  "nbformat_minor": 0
}